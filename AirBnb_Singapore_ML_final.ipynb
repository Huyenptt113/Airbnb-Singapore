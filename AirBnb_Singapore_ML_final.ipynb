{
  "nbformat": 4,
  "nbformat_minor": 0,
  "metadata": {
    "colab": {
      "name": "AirBnb Singapore ML 2",
      "provenance": [],
      "collapsed_sections": [],
      "toc_visible": true
    },
    "kernelspec": {
      "display_name": "Python 3",
      "name": "python3"
    },
    "language_info": {
      "name": "python"
    }
  },
  "cells": [
    {
      "cell_type": "markdown",
      "metadata": {
        "id": "saBkwkGnomPw"
      },
      "source": [
        "## About Dataset"
      ]
    },
    {
      "cell_type": "markdown",
      "metadata": {
        "id": "V6o-JG4Co-CW"
      },
      "source": [
        "**Dataset:** \n",
        "\n",
        "* AirBnb - Singapore market\n",
        "* Data source: Inside Airbnb website http://insideairbnb.com/get-the-data.html which hosts publicly available data from the Airbnb site.\n",
        "* Scrape date: Dec 26,2021 \n",
        "* Number of Recording: 3672 entries\n",
        "\n",
        "\n",
        "\n",
        "\n",
        "\n",
        "\n"
      ]
    },
    {
      "cell_type": "markdown",
      "metadata": {
        "id": "YNSUudnv4GpP"
      },
      "source": [
        "### Import Data"
      ]
    },
    {
      "cell_type": "code",
      "metadata": {
        "id": "d2-SbWvXmcCv"
      },
      "source": [
        "import pandas as pd\n",
        "import matplotlib.pyplot as plt\n",
        "import seaborn as sns"
      ],
      "execution_count": 1,
      "outputs": []
    },
    {
      "cell_type": "code",
      "metadata": {
        "id": "-KUDzAnzSZcW"
      },
      "source": [
        "listing = pd.read_csv('https://raw.githubusercontent.com/Huyenptt113/Airbnb-Singapore/main/listings2.csv')"
      ],
      "execution_count": 2,
      "outputs": []
    },
    {
      "cell_type": "code",
      "metadata": {
        "id": "O_ED77mL4OpI",
        "colab": {
          "base_uri": "https://localhost:8080/",
          "height": 0
        },
        "outputId": "2f495ae5-3df9-4e83-f302-a29ffe4daeb8"
      },
      "source": [
        "listing.shape"
      ],
      "execution_count": 3,
      "outputs": [
        {
          "output_type": "execute_result",
          "data": {
            "text/plain": [
              "(3672, 74)"
            ]
          },
          "metadata": {},
          "execution_count": 3
        }
      ]
    },
    {
      "cell_type": "code",
      "source": [
        "listing = listing[listing['neighbourhood_group_cleansed'] == 'Central Region']"
      ],
      "metadata": {
        "id": "FCUMbxiokrhl"
      },
      "execution_count": 4,
      "outputs": []
    },
    {
      "cell_type": "code",
      "source": [
        "listing.shape"
      ],
      "metadata": {
        "colab": {
          "base_uri": "https://localhost:8080/",
          "height": 0
        },
        "id": "pbTX66gLk4y9",
        "outputId": "e141fd46-9239-40af-e939-ba9df3b2384e"
      },
      "execution_count": 5,
      "outputs": [
        {
          "output_type": "execute_result",
          "data": {
            "text/plain": [
              "(2909, 74)"
            ]
          },
          "metadata": {},
          "execution_count": 5
        }
      ]
    },
    {
      "cell_type": "code",
      "metadata": {
        "id": "CG6Z-ew0nzTg",
        "colab": {
          "base_uri": "https://localhost:8080/",
          "height": 0
        },
        "outputId": "fc9ed71c-130f-4252-fa9b-f0e1d3deb2fe"
      },
      "source": [
        "# check column names\n",
        "listing.columns"
      ],
      "execution_count": 6,
      "outputs": [
        {
          "output_type": "execute_result",
          "data": {
            "text/plain": [
              "Index(['id', 'listing_url', 'scrape_id', 'last_scraped', 'name', 'description',\n",
              "       'neighborhood_overview', 'picture_url', 'host_id', 'host_url',\n",
              "       'host_name', 'host_since', 'host_location', 'host_about',\n",
              "       'host_response_time', 'host_response_rate', 'host_acceptance_rate',\n",
              "       'host_is_superhost', 'host_thumbnail_url', 'host_picture_url',\n",
              "       'host_neighbourhood', 'host_listings_count',\n",
              "       'host_total_listings_count', 'host_verifications',\n",
              "       'host_has_profile_pic', 'host_identity_verified', 'neighbourhood',\n",
              "       'neighbourhood_cleansed', 'neighbourhood_group_cleansed', 'latitude',\n",
              "       'longitude', 'property_type', 'room_type', 'accommodates', 'bathrooms',\n",
              "       'bathrooms_text', 'bedrooms', 'beds', 'amenities', 'price',\n",
              "       'minimum_nights', 'maximum_nights', 'minimum_minimum_nights',\n",
              "       'maximum_minimum_nights', 'minimum_maximum_nights',\n",
              "       'maximum_maximum_nights', 'minimum_nights_avg_ntm',\n",
              "       'maximum_nights_avg_ntm', 'calendar_updated', 'has_availability',\n",
              "       'availability_30', 'availability_60', 'availability_90',\n",
              "       'availability_365', 'calendar_last_scraped', 'number_of_reviews',\n",
              "       'number_of_reviews_ltm', 'number_of_reviews_l30d', 'first_review',\n",
              "       'last_review', 'review_scores_rating', 'review_scores_accuracy',\n",
              "       'review_scores_cleanliness', 'review_scores_checkin',\n",
              "       'review_scores_communication', 'review_scores_location',\n",
              "       'review_scores_value', 'license', 'instant_bookable',\n",
              "       'calculated_host_listings_count',\n",
              "       'calculated_host_listings_count_entire_homes',\n",
              "       'calculated_host_listings_count_private_rooms',\n",
              "       'calculated_host_listings_count_shared_rooms', 'reviews_per_month'],\n",
              "      dtype='object')"
            ]
          },
          "metadata": {},
          "execution_count": 6
        }
      ]
    },
    {
      "cell_type": "markdown",
      "metadata": {
        "id": "Xf9l81QPqKmT"
      },
      "source": [
        "## Audience"
      ]
    },
    {
      "cell_type": "markdown",
      "metadata": {
        "id": "R-UisDH9qRkA"
      },
      "source": [
        "* The target audiences that the project toward to are: Hosts having listing in central area"
      ]
    },
    {
      "cell_type": "markdown",
      "metadata": {
        "id": "iWse2y7ltqka"
      },
      "source": [
        "## Question\n",
        "\n",
        "Airbnb is a booking platform for listing and renting local homes. Since both hosts and travelers\n",
        "can easily exchange the services in Airbnb, a good pricing strategy could create a competitive\n",
        "advantage for hosts.\n",
        "This project aims to answer the question: how much could an Airbnb host charge per night in Central Region in Singapore?"
      ]
    },
    {
      "cell_type": "markdown",
      "metadata": {
        "id": "TXFo8nQyW6qX"
      },
      "source": [
        "# A - Data Cleaning"
      ]
    },
    {
      "cell_type": "markdown",
      "metadata": {
        "id": "HAyyGFewGL4H"
      },
      "source": [
        "## A1 - Remove unwanted observations"
      ]
    },
    {
      "cell_type": "markdown",
      "metadata": {
        "id": "NWD-GNrenfjt"
      },
      "source": [
        "### UNNECCESSARY COLUMNS (with explanation)"
      ]
    },
    {
      "cell_type": "markdown",
      "metadata": {
        "id": "E2FnlU4xnkkC"
      },
      "source": [
        "### DROP COLUMNS"
      ]
    },
    {
      "cell_type": "code",
      "metadata": {
        "id": "_fWqRgZBfHda"
      },
      "source": [
        "#DROP UNECESSARY COLUMS\n",
        "columns = ['listing_url','scrape_id','last_scraped', 'description', 'neighborhood_overview', 'picture_url','host_url','host_name','host_id','number_of_reviews_ltm','number_of_reviews_l30d','host_since','id','number_of_reviews','review_scores_rating',\n",
        "           'host_location', 'host_about','host_picture_url','host_thumbnail_url','host_verifications', 'neighbourhood_cleansed','neighbourhood_group_cleansed',\n",
        "           'neighbourhood', 'bathrooms','availability_30','availability_60','availability_90','availability_365','property_type','host_listings_count',\n",
        "           'minimum_minimum_nights', 'maximum_minimum_nights','minimum_maximum_nights','maximum_maximum_nights','minimum_nights_avg_ntm','maximum_nights_avg_ntm', 'first_review','last_review','reviews_per_month',\n",
        "           'calendar_updated','calendar_last_scraped', 'host_total_listings_count','calculated_host_listings_count','calculated_host_listings_count_entire_homes','calculated_host_listings_count_private_rooms',\n",
        "       'calculated_host_listings_count_shared_rooms','name','review_scores_accuracy','review_scores_cleanliness','review_scores_checkin','review_scores_communication','review_scores_location','review_scores_value','license','host_neighbourhood','amenities']\n",
        "\n",
        "listing_clean = listing.drop(columns= columns)"
      ],
      "execution_count": 7,
      "outputs": []
    },
    {
      "cell_type": "code",
      "metadata": {
        "id": "JgyiWkZ9sAAM",
        "colab": {
          "base_uri": "https://localhost:8080/",
          "height": 0
        },
        "outputId": "da465c0e-f5ce-4d85-a869-fec9163c9d94"
      },
      "source": [
        "# check infor after columns dropping\n",
        "listing_clean.isna().sum()"
      ],
      "execution_count": 8,
      "outputs": [
        {
          "output_type": "execute_result",
          "data": {
            "text/plain": [
              "host_response_time        274\n",
              "host_response_rate        274\n",
              "host_acceptance_rate      446\n",
              "host_is_superhost          11\n",
              "host_has_profile_pic       11\n",
              "host_identity_verified     11\n",
              "latitude                    0\n",
              "longitude                   0\n",
              "room_type                   0\n",
              "accommodates                0\n",
              "bathrooms_text             24\n",
              "bedrooms                  378\n",
              "beds                      100\n",
              "price                       0\n",
              "minimum_nights              0\n",
              "maximum_nights              0\n",
              "has_availability            0\n",
              "instant_bookable            0\n",
              "dtype: int64"
            ]
          },
          "metadata": {},
          "execution_count": 8
        }
      ]
    },
    {
      "cell_type": "code",
      "metadata": {
        "id": "Dt3iLgOLvBB5",
        "colab": {
          "base_uri": "https://localhost:8080/",
          "height": 0
        },
        "outputId": "5871c986-474b-405b-85c8-cd77adec3289"
      },
      "source": [
        "#check duplication\n",
        "listing_clean.duplicated().sum()"
      ],
      "execution_count": 9,
      "outputs": [
        {
          "output_type": "execute_result",
          "data": {
            "text/plain": [
              "31"
            ]
          },
          "metadata": {},
          "execution_count": 9
        }
      ]
    },
    {
      "cell_type": "code",
      "source": [
        "listing_clean.info()"
      ],
      "metadata": {
        "colab": {
          "base_uri": "https://localhost:8080/",
          "height": 0
        },
        "id": "Bt0govN3x05Y",
        "outputId": "ffcdabfe-4979-4a9a-b45b-2aaaa8f72053"
      },
      "execution_count": 10,
      "outputs": [
        {
          "output_type": "stream",
          "name": "stdout",
          "text": [
            "<class 'pandas.core.frame.DataFrame'>\n",
            "Int64Index: 2909 entries, 0 to 3670\n",
            "Data columns (total 18 columns):\n",
            " #   Column                  Non-Null Count  Dtype  \n",
            "---  ------                  --------------  -----  \n",
            " 0   host_response_time      2635 non-null   object \n",
            " 1   host_response_rate      2635 non-null   object \n",
            " 2   host_acceptance_rate    2463 non-null   object \n",
            " 3   host_is_superhost       2898 non-null   object \n",
            " 4   host_has_profile_pic    2898 non-null   object \n",
            " 5   host_identity_verified  2898 non-null   object \n",
            " 6   latitude                2909 non-null   float64\n",
            " 7   longitude               2909 non-null   float64\n",
            " 8   room_type               2909 non-null   object \n",
            " 9   accommodates            2909 non-null   int64  \n",
            " 10  bathrooms_text          2885 non-null   object \n",
            " 11  bedrooms                2531 non-null   float64\n",
            " 12  beds                    2809 non-null   float64\n",
            " 13  price                   2909 non-null   object \n",
            " 14  minimum_nights          2909 non-null   int64  \n",
            " 15  maximum_nights          2909 non-null   int64  \n",
            " 16  has_availability        2909 non-null   object \n",
            " 17  instant_bookable        2909 non-null   object \n",
            "dtypes: float64(4), int64(3), object(11)\n",
            "memory usage: 431.8+ KB\n"
          ]
        }
      ]
    },
    {
      "cell_type": "markdown",
      "metadata": {
        "id": "4k9iEkmGGc91"
      },
      "source": [
        "## A2 - Handle uncorrect Datatype"
      ]
    },
    {
      "cell_type": "code",
      "metadata": {
        "id": "xY7VxPPIsvoz"
      },
      "source": [
        "# Change Data-type \n",
        "listing_clean['host_response_rate'] = listing_clean['host_response_rate'].str.replace('%','').astype('float')\n",
        "listing_clean['host_acceptance_rate'] = listing_clean['host_acceptance_rate'].str.replace('%','').astype('float')"
      ],
      "execution_count": 11,
      "outputs": []
    },
    {
      "cell_type": "code",
      "metadata": {
        "id": "661C7Apm-0tk",
        "colab": {
          "base_uri": "https://localhost:8080/",
          "height": 0
        },
        "outputId": "b3b842cd-bd91-497c-8106-dea4b64c680e"
      },
      "source": [
        "# Change Data-type \n",
        "listing_clean['price'] = listing_clean['price'].str.replace(r'[$,]', '').astype('float')"
      ],
      "execution_count": 12,
      "outputs": [
        {
          "output_type": "stream",
          "name": "stderr",
          "text": [
            "/usr/local/lib/python3.7/dist-packages/ipykernel_launcher.py:2: FutureWarning: The default value of regex will change from True to False in a future version.\n",
            "  \n"
          ]
        }
      ]
    },
    {
      "cell_type": "markdown",
      "metadata": {
        "id": "8UiukoHRmnoJ"
      },
      "source": [
        "#### Drop: Property"
      ]
    },
    {
      "cell_type": "code",
      "metadata": {
        "id": "Jrr6VbjJnDrw",
        "colab": {
          "base_uri": "https://localhost:8080/",
          "height": 0
        },
        "outputId": "4a99a680-d79e-4565-cb0f-616f3b275e96"
      },
      "source": [
        "# step 1: takes the \"number \" out the the strings of the column\n",
        "listing_clean['bathrooms_text'] = listing_clean['bathrooms_text'].str.replace(r'[a-zA-Z\\s]', '')\n",
        "# replace the '' values to 1:\n",
        "listing_clean['bathrooms_text'] = listing_clean['bathrooms_text'].str.replace(r'\\D$','1')\n",
        "# turn the type to float\n",
        "listing_clean['bathrooms_text'] = listing_clean['bathrooms_text'].astype('float')\n",
        "# change the name to barthrooms\n",
        "listing_clean.rename(columns = {'bathrooms_text':'bathrooms'}, inplace = True)"
      ],
      "execution_count": 13,
      "outputs": [
        {
          "output_type": "stream",
          "name": "stderr",
          "text": [
            "/usr/local/lib/python3.7/dist-packages/ipykernel_launcher.py:2: FutureWarning: The default value of regex will change from True to False in a future version.\n",
            "  \n",
            "/usr/local/lib/python3.7/dist-packages/ipykernel_launcher.py:4: FutureWarning: The default value of regex will change from True to False in a future version.\n",
            "  after removing the cwd from sys.path.\n"
          ]
        }
      ]
    },
    {
      "cell_type": "code",
      "metadata": {
        "id": "_VWwtC8VHST3",
        "colab": {
          "base_uri": "https://localhost:8080/",
          "height": 0
        },
        "outputId": "82aea0e1-13c7-45f9-c8d8-39eaa03a36b1"
      },
      "source": [
        "#re-check data type after changing type\n",
        "\n",
        "listing_clean.info()"
      ],
      "execution_count": 14,
      "outputs": [
        {
          "output_type": "stream",
          "name": "stdout",
          "text": [
            "<class 'pandas.core.frame.DataFrame'>\n",
            "Int64Index: 2909 entries, 0 to 3670\n",
            "Data columns (total 18 columns):\n",
            " #   Column                  Non-Null Count  Dtype  \n",
            "---  ------                  --------------  -----  \n",
            " 0   host_response_time      2635 non-null   object \n",
            " 1   host_response_rate      2635 non-null   float64\n",
            " 2   host_acceptance_rate    2463 non-null   float64\n",
            " 3   host_is_superhost       2898 non-null   object \n",
            " 4   host_has_profile_pic    2898 non-null   object \n",
            " 5   host_identity_verified  2898 non-null   object \n",
            " 6   latitude                2909 non-null   float64\n",
            " 7   longitude               2909 non-null   float64\n",
            " 8   room_type               2909 non-null   object \n",
            " 9   accommodates            2909 non-null   int64  \n",
            " 10  bathrooms               2885 non-null   float64\n",
            " 11  bedrooms                2531 non-null   float64\n",
            " 12  beds                    2809 non-null   float64\n",
            " 13  price                   2909 non-null   float64\n",
            " 14  minimum_nights          2909 non-null   int64  \n",
            " 15  maximum_nights          2909 non-null   int64  \n",
            " 16  has_availability        2909 non-null   object \n",
            " 17  instant_bookable        2909 non-null   object \n",
            "dtypes: float64(8), int64(3), object(7)\n",
            "memory usage: 431.8+ KB\n"
          ]
        }
      ]
    },
    {
      "cell_type": "code",
      "source": [
        "listing_clean.shape"
      ],
      "metadata": {
        "colab": {
          "base_uri": "https://localhost:8080/",
          "height": 0
        },
        "id": "rRviDrfvzBbe",
        "outputId": "77a8e9d8-4ff8-41cd-bd9e-3a4ac89656d2"
      },
      "execution_count": 15,
      "outputs": [
        {
          "output_type": "execute_result",
          "data": {
            "text/plain": [
              "(2909, 18)"
            ]
          },
          "metadata": {},
          "execution_count": 15
        }
      ]
    },
    {
      "cell_type": "markdown",
      "metadata": {
        "id": "ZCpN3TqnGnbp"
      },
      "source": [
        "## A3 - Handle Missing Values"
      ]
    },
    {
      "cell_type": "markdown",
      "metadata": {
        "id": "8z_FWgIYoTWY"
      },
      "source": [
        "### Drop missing values"
      ]
    },
    {
      "cell_type": "code",
      "source": [
        "#check number of missing value\n",
        "listing_clean = listing_clean.dropna(axis = 0)\n",
        "listing_clean.isna().sum()"
      ],
      "metadata": {
        "colab": {
          "base_uri": "https://localhost:8080/",
          "height": 0
        },
        "id": "qJR6tjNHeFpg",
        "outputId": "f5376d34-cbd4-4147-fc9b-a56b91ae7a10"
      },
      "execution_count": 16,
      "outputs": [
        {
          "output_type": "execute_result",
          "data": {
            "text/plain": [
              "host_response_time        0\n",
              "host_response_rate        0\n",
              "host_acceptance_rate      0\n",
              "host_is_superhost         0\n",
              "host_has_profile_pic      0\n",
              "host_identity_verified    0\n",
              "latitude                  0\n",
              "longitude                 0\n",
              "room_type                 0\n",
              "accommodates              0\n",
              "bathrooms                 0\n",
              "bedrooms                  0\n",
              "beds                      0\n",
              "price                     0\n",
              "minimum_nights            0\n",
              "maximum_nights            0\n",
              "has_availability          0\n",
              "instant_bookable          0\n",
              "dtype: int64"
            ]
          },
          "metadata": {},
          "execution_count": 16
        }
      ]
    },
    {
      "cell_type": "code",
      "source": [
        "listing_clean.shape"
      ],
      "metadata": {
        "colab": {
          "base_uri": "https://localhost:8080/",
          "height": 0
        },
        "id": "KTWiPkFe1iEm",
        "outputId": "58b2aa87-1e6c-4c71-898b-96669a5f4f4d"
      },
      "execution_count": 17,
      "outputs": [
        {
          "output_type": "execute_result",
          "data": {
            "text/plain": [
              "(2014, 18)"
            ]
          },
          "metadata": {},
          "execution_count": 17
        }
      ]
    },
    {
      "cell_type": "markdown",
      "metadata": {
        "id": "2ggVab6oXUi5"
      },
      "source": [
        "# B - Exploratory Data Analysis"
      ]
    },
    {
      "cell_type": "code",
      "source": [
        "listing_clean.head()"
      ],
      "metadata": {
        "colab": {
          "base_uri": "https://localhost:8080/",
          "height": 357
        },
        "id": "oYcKMc0MT2OZ",
        "outputId": "2d3b937f-4527-4216-b8e4-e3d50c592e92"
      },
      "execution_count": 18,
      "outputs": [
        {
          "output_type": "execute_result",
          "data": {
            "text/plain": [
              "    host_response_time  host_response_rate  host_acceptance_rate  \\\n",
              "5   within a few hours                87.0                  77.0   \n",
              "6   within a few hours                95.0                   0.0   \n",
              "7   within a few hours                87.0                  77.0   \n",
              "9   within a few hours                87.0                  77.0   \n",
              "12  within a few hours                95.0                   0.0   \n",
              "\n",
              "   host_is_superhost host_has_profile_pic host_identity_verified  latitude  \\\n",
              "5                  f                    t                      t   1.28836   \n",
              "6                  f                    t                      t   1.31142   \n",
              "7                  f                    t                      t   1.28828   \n",
              "9                  f                    t                      t   1.28636   \n",
              "12                 f                    t                      t   1.31144   \n",
              "\n",
              "    longitude     room_type  accommodates  bathrooms  bedrooms  beds  price  \\\n",
              "5   103.81144  Private room             1        1.0       1.0   1.0   40.0   \n",
              "6   103.83924  Private room             2        1.0       1.0   1.0   72.0   \n",
              "7   103.81020  Private room             1        0.0       1.0   1.0   49.0   \n",
              "9   103.81138  Private room             1        4.0       1.0   1.0   59.0   \n",
              "12  103.83784  Private room             2        1.0       1.0   1.0   69.0   \n",
              "\n",
              "    minimum_nights  maximum_nights has_availability instant_bookable  \n",
              "5               14             999                t                f  \n",
              "6               90            1125                t                f  \n",
              "7               14             999                t                f  \n",
              "9               60             999                t                f  \n",
              "12               3             180                t                f  "
            ],
            "text/html": [
              "\n",
              "  <div id=\"df-de8e28aa-ee97-4932-b1d6-9bbe35ae6ff1\">\n",
              "    <div class=\"colab-df-container\">\n",
              "      <div>\n",
              "<style scoped>\n",
              "    .dataframe tbody tr th:only-of-type {\n",
              "        vertical-align: middle;\n",
              "    }\n",
              "\n",
              "    .dataframe tbody tr th {\n",
              "        vertical-align: top;\n",
              "    }\n",
              "\n",
              "    .dataframe thead th {\n",
              "        text-align: right;\n",
              "    }\n",
              "</style>\n",
              "<table border=\"1\" class=\"dataframe\">\n",
              "  <thead>\n",
              "    <tr style=\"text-align: right;\">\n",
              "      <th></th>\n",
              "      <th>host_response_time</th>\n",
              "      <th>host_response_rate</th>\n",
              "      <th>host_acceptance_rate</th>\n",
              "      <th>host_is_superhost</th>\n",
              "      <th>host_has_profile_pic</th>\n",
              "      <th>host_identity_verified</th>\n",
              "      <th>latitude</th>\n",
              "      <th>longitude</th>\n",
              "      <th>room_type</th>\n",
              "      <th>accommodates</th>\n",
              "      <th>bathrooms</th>\n",
              "      <th>bedrooms</th>\n",
              "      <th>beds</th>\n",
              "      <th>price</th>\n",
              "      <th>minimum_nights</th>\n",
              "      <th>maximum_nights</th>\n",
              "      <th>has_availability</th>\n",
              "      <th>instant_bookable</th>\n",
              "    </tr>\n",
              "  </thead>\n",
              "  <tbody>\n",
              "    <tr>\n",
              "      <th>5</th>\n",
              "      <td>within a few hours</td>\n",
              "      <td>87.0</td>\n",
              "      <td>77.0</td>\n",
              "      <td>f</td>\n",
              "      <td>t</td>\n",
              "      <td>t</td>\n",
              "      <td>1.28836</td>\n",
              "      <td>103.81144</td>\n",
              "      <td>Private room</td>\n",
              "      <td>1</td>\n",
              "      <td>1.0</td>\n",
              "      <td>1.0</td>\n",
              "      <td>1.0</td>\n",
              "      <td>40.0</td>\n",
              "      <td>14</td>\n",
              "      <td>999</td>\n",
              "      <td>t</td>\n",
              "      <td>f</td>\n",
              "    </tr>\n",
              "    <tr>\n",
              "      <th>6</th>\n",
              "      <td>within a few hours</td>\n",
              "      <td>95.0</td>\n",
              "      <td>0.0</td>\n",
              "      <td>f</td>\n",
              "      <td>t</td>\n",
              "      <td>t</td>\n",
              "      <td>1.31142</td>\n",
              "      <td>103.83924</td>\n",
              "      <td>Private room</td>\n",
              "      <td>2</td>\n",
              "      <td>1.0</td>\n",
              "      <td>1.0</td>\n",
              "      <td>1.0</td>\n",
              "      <td>72.0</td>\n",
              "      <td>90</td>\n",
              "      <td>1125</td>\n",
              "      <td>t</td>\n",
              "      <td>f</td>\n",
              "    </tr>\n",
              "    <tr>\n",
              "      <th>7</th>\n",
              "      <td>within a few hours</td>\n",
              "      <td>87.0</td>\n",
              "      <td>77.0</td>\n",
              "      <td>f</td>\n",
              "      <td>t</td>\n",
              "      <td>t</td>\n",
              "      <td>1.28828</td>\n",
              "      <td>103.81020</td>\n",
              "      <td>Private room</td>\n",
              "      <td>1</td>\n",
              "      <td>0.0</td>\n",
              "      <td>1.0</td>\n",
              "      <td>1.0</td>\n",
              "      <td>49.0</td>\n",
              "      <td>14</td>\n",
              "      <td>999</td>\n",
              "      <td>t</td>\n",
              "      <td>f</td>\n",
              "    </tr>\n",
              "    <tr>\n",
              "      <th>9</th>\n",
              "      <td>within a few hours</td>\n",
              "      <td>87.0</td>\n",
              "      <td>77.0</td>\n",
              "      <td>f</td>\n",
              "      <td>t</td>\n",
              "      <td>t</td>\n",
              "      <td>1.28636</td>\n",
              "      <td>103.81138</td>\n",
              "      <td>Private room</td>\n",
              "      <td>1</td>\n",
              "      <td>4.0</td>\n",
              "      <td>1.0</td>\n",
              "      <td>1.0</td>\n",
              "      <td>59.0</td>\n",
              "      <td>60</td>\n",
              "      <td>999</td>\n",
              "      <td>t</td>\n",
              "      <td>f</td>\n",
              "    </tr>\n",
              "    <tr>\n",
              "      <th>12</th>\n",
              "      <td>within a few hours</td>\n",
              "      <td>95.0</td>\n",
              "      <td>0.0</td>\n",
              "      <td>f</td>\n",
              "      <td>t</td>\n",
              "      <td>t</td>\n",
              "      <td>1.31144</td>\n",
              "      <td>103.83784</td>\n",
              "      <td>Private room</td>\n",
              "      <td>2</td>\n",
              "      <td>1.0</td>\n",
              "      <td>1.0</td>\n",
              "      <td>1.0</td>\n",
              "      <td>69.0</td>\n",
              "      <td>3</td>\n",
              "      <td>180</td>\n",
              "      <td>t</td>\n",
              "      <td>f</td>\n",
              "    </tr>\n",
              "  </tbody>\n",
              "</table>\n",
              "</div>\n",
              "      <button class=\"colab-df-convert\" onclick=\"convertToInteractive('df-de8e28aa-ee97-4932-b1d6-9bbe35ae6ff1')\"\n",
              "              title=\"Convert this dataframe to an interactive table.\"\n",
              "              style=\"display:none;\">\n",
              "        \n",
              "  <svg xmlns=\"http://www.w3.org/2000/svg\" height=\"24px\"viewBox=\"0 0 24 24\"\n",
              "       width=\"24px\">\n",
              "    <path d=\"M0 0h24v24H0V0z\" fill=\"none\"/>\n",
              "    <path d=\"M18.56 5.44l.94 2.06.94-2.06 2.06-.94-2.06-.94-.94-2.06-.94 2.06-2.06.94zm-11 1L8.5 8.5l.94-2.06 2.06-.94-2.06-.94L8.5 2.5l-.94 2.06-2.06.94zm10 10l.94 2.06.94-2.06 2.06-.94-2.06-.94-.94-2.06-.94 2.06-2.06.94z\"/><path d=\"M17.41 7.96l-1.37-1.37c-.4-.4-.92-.59-1.43-.59-.52 0-1.04.2-1.43.59L10.3 9.45l-7.72 7.72c-.78.78-.78 2.05 0 2.83L4 21.41c.39.39.9.59 1.41.59.51 0 1.02-.2 1.41-.59l7.78-7.78 2.81-2.81c.8-.78.8-2.07 0-2.86zM5.41 20L4 18.59l7.72-7.72 1.47 1.35L5.41 20z\"/>\n",
              "  </svg>\n",
              "      </button>\n",
              "      \n",
              "  <style>\n",
              "    .colab-df-container {\n",
              "      display:flex;\n",
              "      flex-wrap:wrap;\n",
              "      gap: 12px;\n",
              "    }\n",
              "\n",
              "    .colab-df-convert {\n",
              "      background-color: #E8F0FE;\n",
              "      border: none;\n",
              "      border-radius: 50%;\n",
              "      cursor: pointer;\n",
              "      display: none;\n",
              "      fill: #1967D2;\n",
              "      height: 32px;\n",
              "      padding: 0 0 0 0;\n",
              "      width: 32px;\n",
              "    }\n",
              "\n",
              "    .colab-df-convert:hover {\n",
              "      background-color: #E2EBFA;\n",
              "      box-shadow: 0px 1px 2px rgba(60, 64, 67, 0.3), 0px 1px 3px 1px rgba(60, 64, 67, 0.15);\n",
              "      fill: #174EA6;\n",
              "    }\n",
              "\n",
              "    [theme=dark] .colab-df-convert {\n",
              "      background-color: #3B4455;\n",
              "      fill: #D2E3FC;\n",
              "    }\n",
              "\n",
              "    [theme=dark] .colab-df-convert:hover {\n",
              "      background-color: #434B5C;\n",
              "      box-shadow: 0px 1px 3px 1px rgba(0, 0, 0, 0.15);\n",
              "      filter: drop-shadow(0px 1px 2px rgba(0, 0, 0, 0.3));\n",
              "      fill: #FFFFFF;\n",
              "    }\n",
              "  </style>\n",
              "\n",
              "      <script>\n",
              "        const buttonEl =\n",
              "          document.querySelector('#df-de8e28aa-ee97-4932-b1d6-9bbe35ae6ff1 button.colab-df-convert');\n",
              "        buttonEl.style.display =\n",
              "          google.colab.kernel.accessAllowed ? 'block' : 'none';\n",
              "\n",
              "        async function convertToInteractive(key) {\n",
              "          const element = document.querySelector('#df-de8e28aa-ee97-4932-b1d6-9bbe35ae6ff1');\n",
              "          const dataTable =\n",
              "            await google.colab.kernel.invokeFunction('convertToInteractive',\n",
              "                                                     [key], {});\n",
              "          if (!dataTable) return;\n",
              "\n",
              "          const docLinkHtml = 'Like what you see? Visit the ' +\n",
              "            '<a target=\"_blank\" href=https://colab.research.google.com/notebooks/data_table.ipynb>data table notebook</a>'\n",
              "            + ' to learn more about interactive tables.';\n",
              "          element.innerHTML = '';\n",
              "          dataTable['output_type'] = 'display_data';\n",
              "          await google.colab.output.renderOutput(dataTable, element);\n",
              "          const docLink = document.createElement('div');\n",
              "          docLink.innerHTML = docLinkHtml;\n",
              "          element.appendChild(docLink);\n",
              "        }\n",
              "      </script>\n",
              "    </div>\n",
              "  </div>\n",
              "  "
            ]
          },
          "metadata": {},
          "execution_count": 18
        }
      ]
    },
    {
      "cell_type": "code",
      "source": [
        "listing_clean.describe()"
      ],
      "metadata": {
        "colab": {
          "base_uri": "https://localhost:8080/",
          "height": 300
        },
        "id": "SS1Qjq5kSoOF",
        "outputId": "baa92398-058e-4666-f03f-f8383ae92452"
      },
      "execution_count": 19,
      "outputs": [
        {
          "output_type": "execute_result",
          "data": {
            "text/plain": [
              "       host_response_rate  host_acceptance_rate     latitude    longitude  \\\n",
              "count         2014.000000           2014.000000  2014.000000  2014.000000   \n",
              "mean            82.497517             61.796425     1.302249   103.849498   \n",
              "std             27.643762             34.467236     0.016351     0.023438   \n",
              "min              0.000000              0.000000     1.245350   103.761490   \n",
              "25%             81.000000             31.000000     1.288728   103.840505   \n",
              "50%             95.000000             72.000000     1.304020   103.848810   \n",
              "75%            100.000000             96.000000     1.313575   103.860640   \n",
              "max            100.000000            100.000000     1.364410   103.907052   \n",
              "\n",
              "       accommodates    bathrooms     bedrooms         beds        price  \\\n",
              "count   2014.000000  2014.000000  2014.000000  2014.000000  2014.000000   \n",
              "mean       3.173784     1.734608     1.358491     2.039722   209.277061   \n",
              "std        2.569953     1.505644     0.691719     2.537432   266.518204   \n",
              "min        1.000000     0.000000     1.000000     1.000000    15.000000   \n",
              "25%        2.000000     1.000000     1.000000     1.000000    72.000000   \n",
              "50%        2.000000     1.000000     1.000000     1.000000   147.000000   \n",
              "75%        4.000000     2.000000     2.000000     2.000000   241.000000   \n",
              "max       16.000000    21.000000     8.000000    46.000000  4159.000000   \n",
              "\n",
              "       minimum_nights  maximum_nights  \n",
              "count      2014.00000     2014.000000  \n",
              "mean         32.82423      914.470209  \n",
              "std          56.56646      368.218267  \n",
              "min           1.00000        1.000000  \n",
              "25%           3.00000      999.000000  \n",
              "50%           7.00000     1125.000000  \n",
              "75%          90.00000     1125.000000  \n",
              "max        1000.00000     1125.000000  "
            ],
            "text/html": [
              "\n",
              "  <div id=\"df-a81cba03-eb5d-4d65-a46e-c209b9af82a7\">\n",
              "    <div class=\"colab-df-container\">\n",
              "      <div>\n",
              "<style scoped>\n",
              "    .dataframe tbody tr th:only-of-type {\n",
              "        vertical-align: middle;\n",
              "    }\n",
              "\n",
              "    .dataframe tbody tr th {\n",
              "        vertical-align: top;\n",
              "    }\n",
              "\n",
              "    .dataframe thead th {\n",
              "        text-align: right;\n",
              "    }\n",
              "</style>\n",
              "<table border=\"1\" class=\"dataframe\">\n",
              "  <thead>\n",
              "    <tr style=\"text-align: right;\">\n",
              "      <th></th>\n",
              "      <th>host_response_rate</th>\n",
              "      <th>host_acceptance_rate</th>\n",
              "      <th>latitude</th>\n",
              "      <th>longitude</th>\n",
              "      <th>accommodates</th>\n",
              "      <th>bathrooms</th>\n",
              "      <th>bedrooms</th>\n",
              "      <th>beds</th>\n",
              "      <th>price</th>\n",
              "      <th>minimum_nights</th>\n",
              "      <th>maximum_nights</th>\n",
              "    </tr>\n",
              "  </thead>\n",
              "  <tbody>\n",
              "    <tr>\n",
              "      <th>count</th>\n",
              "      <td>2014.000000</td>\n",
              "      <td>2014.000000</td>\n",
              "      <td>2014.000000</td>\n",
              "      <td>2014.000000</td>\n",
              "      <td>2014.000000</td>\n",
              "      <td>2014.000000</td>\n",
              "      <td>2014.000000</td>\n",
              "      <td>2014.000000</td>\n",
              "      <td>2014.000000</td>\n",
              "      <td>2014.00000</td>\n",
              "      <td>2014.000000</td>\n",
              "    </tr>\n",
              "    <tr>\n",
              "      <th>mean</th>\n",
              "      <td>82.497517</td>\n",
              "      <td>61.796425</td>\n",
              "      <td>1.302249</td>\n",
              "      <td>103.849498</td>\n",
              "      <td>3.173784</td>\n",
              "      <td>1.734608</td>\n",
              "      <td>1.358491</td>\n",
              "      <td>2.039722</td>\n",
              "      <td>209.277061</td>\n",
              "      <td>32.82423</td>\n",
              "      <td>914.470209</td>\n",
              "    </tr>\n",
              "    <tr>\n",
              "      <th>std</th>\n",
              "      <td>27.643762</td>\n",
              "      <td>34.467236</td>\n",
              "      <td>0.016351</td>\n",
              "      <td>0.023438</td>\n",
              "      <td>2.569953</td>\n",
              "      <td>1.505644</td>\n",
              "      <td>0.691719</td>\n",
              "      <td>2.537432</td>\n",
              "      <td>266.518204</td>\n",
              "      <td>56.56646</td>\n",
              "      <td>368.218267</td>\n",
              "    </tr>\n",
              "    <tr>\n",
              "      <th>min</th>\n",
              "      <td>0.000000</td>\n",
              "      <td>0.000000</td>\n",
              "      <td>1.245350</td>\n",
              "      <td>103.761490</td>\n",
              "      <td>1.000000</td>\n",
              "      <td>0.000000</td>\n",
              "      <td>1.000000</td>\n",
              "      <td>1.000000</td>\n",
              "      <td>15.000000</td>\n",
              "      <td>1.00000</td>\n",
              "      <td>1.000000</td>\n",
              "    </tr>\n",
              "    <tr>\n",
              "      <th>25%</th>\n",
              "      <td>81.000000</td>\n",
              "      <td>31.000000</td>\n",
              "      <td>1.288728</td>\n",
              "      <td>103.840505</td>\n",
              "      <td>2.000000</td>\n",
              "      <td>1.000000</td>\n",
              "      <td>1.000000</td>\n",
              "      <td>1.000000</td>\n",
              "      <td>72.000000</td>\n",
              "      <td>3.00000</td>\n",
              "      <td>999.000000</td>\n",
              "    </tr>\n",
              "    <tr>\n",
              "      <th>50%</th>\n",
              "      <td>95.000000</td>\n",
              "      <td>72.000000</td>\n",
              "      <td>1.304020</td>\n",
              "      <td>103.848810</td>\n",
              "      <td>2.000000</td>\n",
              "      <td>1.000000</td>\n",
              "      <td>1.000000</td>\n",
              "      <td>1.000000</td>\n",
              "      <td>147.000000</td>\n",
              "      <td>7.00000</td>\n",
              "      <td>1125.000000</td>\n",
              "    </tr>\n",
              "    <tr>\n",
              "      <th>75%</th>\n",
              "      <td>100.000000</td>\n",
              "      <td>96.000000</td>\n",
              "      <td>1.313575</td>\n",
              "      <td>103.860640</td>\n",
              "      <td>4.000000</td>\n",
              "      <td>2.000000</td>\n",
              "      <td>2.000000</td>\n",
              "      <td>2.000000</td>\n",
              "      <td>241.000000</td>\n",
              "      <td>90.00000</td>\n",
              "      <td>1125.000000</td>\n",
              "    </tr>\n",
              "    <tr>\n",
              "      <th>max</th>\n",
              "      <td>100.000000</td>\n",
              "      <td>100.000000</td>\n",
              "      <td>1.364410</td>\n",
              "      <td>103.907052</td>\n",
              "      <td>16.000000</td>\n",
              "      <td>21.000000</td>\n",
              "      <td>8.000000</td>\n",
              "      <td>46.000000</td>\n",
              "      <td>4159.000000</td>\n",
              "      <td>1000.00000</td>\n",
              "      <td>1125.000000</td>\n",
              "    </tr>\n",
              "  </tbody>\n",
              "</table>\n",
              "</div>\n",
              "      <button class=\"colab-df-convert\" onclick=\"convertToInteractive('df-a81cba03-eb5d-4d65-a46e-c209b9af82a7')\"\n",
              "              title=\"Convert this dataframe to an interactive table.\"\n",
              "              style=\"display:none;\">\n",
              "        \n",
              "  <svg xmlns=\"http://www.w3.org/2000/svg\" height=\"24px\"viewBox=\"0 0 24 24\"\n",
              "       width=\"24px\">\n",
              "    <path d=\"M0 0h24v24H0V0z\" fill=\"none\"/>\n",
              "    <path d=\"M18.56 5.44l.94 2.06.94-2.06 2.06-.94-2.06-.94-.94-2.06-.94 2.06-2.06.94zm-11 1L8.5 8.5l.94-2.06 2.06-.94-2.06-.94L8.5 2.5l-.94 2.06-2.06.94zm10 10l.94 2.06.94-2.06 2.06-.94-2.06-.94-.94-2.06-.94 2.06-2.06.94z\"/><path d=\"M17.41 7.96l-1.37-1.37c-.4-.4-.92-.59-1.43-.59-.52 0-1.04.2-1.43.59L10.3 9.45l-7.72 7.72c-.78.78-.78 2.05 0 2.83L4 21.41c.39.39.9.59 1.41.59.51 0 1.02-.2 1.41-.59l7.78-7.78 2.81-2.81c.8-.78.8-2.07 0-2.86zM5.41 20L4 18.59l7.72-7.72 1.47 1.35L5.41 20z\"/>\n",
              "  </svg>\n",
              "      </button>\n",
              "      \n",
              "  <style>\n",
              "    .colab-df-container {\n",
              "      display:flex;\n",
              "      flex-wrap:wrap;\n",
              "      gap: 12px;\n",
              "    }\n",
              "\n",
              "    .colab-df-convert {\n",
              "      background-color: #E8F0FE;\n",
              "      border: none;\n",
              "      border-radius: 50%;\n",
              "      cursor: pointer;\n",
              "      display: none;\n",
              "      fill: #1967D2;\n",
              "      height: 32px;\n",
              "      padding: 0 0 0 0;\n",
              "      width: 32px;\n",
              "    }\n",
              "\n",
              "    .colab-df-convert:hover {\n",
              "      background-color: #E2EBFA;\n",
              "      box-shadow: 0px 1px 2px rgba(60, 64, 67, 0.3), 0px 1px 3px 1px rgba(60, 64, 67, 0.15);\n",
              "      fill: #174EA6;\n",
              "    }\n",
              "\n",
              "    [theme=dark] .colab-df-convert {\n",
              "      background-color: #3B4455;\n",
              "      fill: #D2E3FC;\n",
              "    }\n",
              "\n",
              "    [theme=dark] .colab-df-convert:hover {\n",
              "      background-color: #434B5C;\n",
              "      box-shadow: 0px 1px 3px 1px rgba(0, 0, 0, 0.15);\n",
              "      filter: drop-shadow(0px 1px 2px rgba(0, 0, 0, 0.3));\n",
              "      fill: #FFFFFF;\n",
              "    }\n",
              "  </style>\n",
              "\n",
              "      <script>\n",
              "        const buttonEl =\n",
              "          document.querySelector('#df-a81cba03-eb5d-4d65-a46e-c209b9af82a7 button.colab-df-convert');\n",
              "        buttonEl.style.display =\n",
              "          google.colab.kernel.accessAllowed ? 'block' : 'none';\n",
              "\n",
              "        async function convertToInteractive(key) {\n",
              "          const element = document.querySelector('#df-a81cba03-eb5d-4d65-a46e-c209b9af82a7');\n",
              "          const dataTable =\n",
              "            await google.colab.kernel.invokeFunction('convertToInteractive',\n",
              "                                                     [key], {});\n",
              "          if (!dataTable) return;\n",
              "\n",
              "          const docLinkHtml = 'Like what you see? Visit the ' +\n",
              "            '<a target=\"_blank\" href=https://colab.research.google.com/notebooks/data_table.ipynb>data table notebook</a>'\n",
              "            + ' to learn more about interactive tables.';\n",
              "          element.innerHTML = '';\n",
              "          dataTable['output_type'] = 'display_data';\n",
              "          await google.colab.output.renderOutput(dataTable, element);\n",
              "          const docLink = document.createElement('div');\n",
              "          docLink.innerHTML = docLinkHtml;\n",
              "          element.appendChild(docLink);\n",
              "        }\n",
              "      </script>\n",
              "    </div>\n",
              "  </div>\n",
              "  "
            ]
          },
          "metadata": {},
          "execution_count": 19
        }
      ]
    },
    {
      "cell_type": "code",
      "source": [
        "import matplotlib.pyplot as plt\n",
        "import seaborn as sns\n",
        "listing_clean.iloc[:,2:].hist(figsize=(40,30), bins = 10)\n",
        "plt.show()"
      ],
      "metadata": {
        "colab": {
          "base_uri": "https://localhost:8080/",
          "height": 1000
        },
        "id": "losW4iNhUJkw",
        "outputId": "eac12eb9-f12e-4018-cfd6-8041d6bfd7fb"
      },
      "execution_count": 20,
      "outputs": [
        {
          "output_type": "display_data",
          "data": {
            "text/plain": [
              "<Figure size 2880x2160 with 12 Axes>"
            ],
            "image/png": "[encoded data removed]"
          },
          "metadata": {
            "needs_background": "light"
          }
        }
      ]
    },
    {
      "cell_type": "code",
      "metadata": {
        "id": "Vss_S6-VzgoI",
        "colab": {
          "base_uri": "https://localhost:8080/",
          "height": 606
        },
        "outputId": "bc0ef605-7a49-4d8c-ba5d-0703f526ce3d"
      },
      "source": [
        "# Outliers - listing.gz / review columns\n",
        "\n",
        "plt.style.use('seaborn')\n",
        "\n",
        "\n",
        "plt.figure(figsize=(20, 10))\n",
        "\n",
        "plt.subplot(331)\n",
        "rating = listing_clean['host_response_rate'].reset_index()\n",
        "sns.boxplot(data=rating, x = 'host_response_rate')\n",
        "\n",
        "plt.subplot(332)\n",
        "accuracy = listing_clean['host_acceptance_rate'].reset_index()\n",
        "sns.boxplot(data=accuracy, x = 'host_acceptance_rate')\n",
        "\n",
        "plt.subplot(333)\n",
        "checkin = listing_clean['accommodates'].reset_index()\n",
        "sns.boxplot(data=checkin, x = 'accommodates')\n",
        "\n",
        "plt.subplot(334)\n",
        "communication = listing_clean['bathrooms'].reset_index()\n",
        "sns.boxplot(data=communication, x = 'bathrooms')\n",
        "\n",
        "plt.subplot(335)\n",
        "location = listing_clean['bedrooms'].reset_index()\n",
        "sns.boxplot(data=location, x = 'bedrooms')\n",
        "\n",
        "plt.subplot(336)\n",
        "value = listing_clean['beds'].reset_index()\n",
        "sns.boxplot(data=value, x = 'beds')\n",
        "\n",
        "plt.subplot(337)\n",
        "value = listing_clean['price'].reset_index()\n",
        "sns.boxplot(data=value, x = 'price')\n",
        "\n",
        "plt.subplot(338)\n",
        "value = listing_clean['minimum_nights'].reset_index()\n",
        "sns.boxplot(data=value, x = 'minimum_nights')\n",
        "\n",
        "plt.subplot(339)\n",
        "value = listing_clean['maximum_nights'].reset_index()\n",
        "sns.boxplot(data=value, x = 'maximum_nights')\n",
        "\n",
        "\n",
        "plt.show()"
      ],
      "execution_count": 21,
      "outputs": [
        {
          "output_type": "display_data",
          "data": {
            "text/plain": [
              "<Figure size 1440x720 with 9 Axes>"
            ],
            "image/png": "[encoded data removed]"
          },
          "metadata": {}
        }
      ]
    },
    {
      "cell_type": "code",
      "source": [
        "listing_clean.info()"
      ],
      "metadata": {
        "colab": {
          "base_uri": "https://localhost:8080/",
          "height": 0
        },
        "id": "oPohIwXcpgtn",
        "outputId": "a8721834-bbeb-4386-d7ba-112b25f1648a"
      },
      "execution_count": 22,
      "outputs": [
        {
          "output_type": "stream",
          "name": "stdout",
          "text": [
            "<class 'pandas.core.frame.DataFrame'>\n",
            "Int64Index: 2014 entries, 5 to 3670\n",
            "Data columns (total 18 columns):\n",
            " #   Column                  Non-Null Count  Dtype  \n",
            "---  ------                  --------------  -----  \n",
            " 0   host_response_time      2014 non-null   object \n",
            " 1   host_response_rate      2014 non-null   float64\n",
            " 2   host_acceptance_rate    2014 non-null   float64\n",
            " 3   host_is_superhost       2014 non-null   object \n",
            " 4   host_has_profile_pic    2014 non-null   object \n",
            " 5   host_identity_verified  2014 non-null   object \n",
            " 6   latitude                2014 non-null   float64\n",
            " 7   longitude               2014 non-null   float64\n",
            " 8   room_type               2014 non-null   object \n",
            " 9   accommodates            2014 non-null   int64  \n",
            " 10  bathrooms               2014 non-null   float64\n",
            " 11  bedrooms                2014 non-null   float64\n",
            " 12  beds                    2014 non-null   float64\n",
            " 13  price                   2014 non-null   float64\n",
            " 14  minimum_nights          2014 non-null   int64  \n",
            " 15  maximum_nights          2014 non-null   int64  \n",
            " 16  has_availability        2014 non-null   object \n",
            " 17  instant_bookable        2014 non-null   object \n",
            "dtypes: float64(8), int64(3), object(7)\n",
            "memory usage: 299.0+ KB\n"
          ]
        }
      ]
    },
    {
      "cell_type": "code",
      "source": [
        "corr_table=listing_clean.corr()\n",
        "corr_table"
      ],
      "metadata": {
        "colab": {
          "base_uri": "https://localhost:8080/",
          "height": 394
        },
        "id": "3sJuZuwJr99I",
        "outputId": "341e946b-4222-4376-dfcd-3ec094a7c471"
      },
      "execution_count": 23,
      "outputs": [
        {
          "output_type": "execute_result",
          "data": {
            "text/plain": [
              "                      host_response_rate  host_acceptance_rate  latitude  \\\n",
              "host_response_rate              1.000000              0.409867 -0.086563   \n",
              "host_acceptance_rate            0.409867              1.000000 -0.070285   \n",
              "latitude                       -0.086563             -0.070285  1.000000   \n",
              "longitude                      -0.004730              0.132879  0.321947   \n",
              "accommodates                   -0.086177             -0.208164  0.084883   \n",
              "bathrooms                      -0.050273             -0.036522  0.091559   \n",
              "bedrooms                       -0.040897             -0.184610  0.111743   \n",
              "beds                           -0.107371             -0.142376  0.061606   \n",
              "price                           0.042566             -0.153365 -0.156090   \n",
              "minimum_nights                  0.082939             -0.025052  0.055525   \n",
              "maximum_nights                  0.003141             -0.104906  0.012879   \n",
              "\n",
              "                      longitude  accommodates  bathrooms  bedrooms      beds  \\\n",
              "host_response_rate    -0.004730     -0.086177  -0.050273 -0.040897 -0.107371   \n",
              "host_acceptance_rate   0.132879     -0.208164  -0.036522 -0.184610 -0.142376   \n",
              "latitude               0.321947      0.084883   0.091559  0.111743  0.061606   \n",
              "longitude              1.000000      0.028029   0.087639 -0.062410  0.051892   \n",
              "accommodates           0.028029      1.000000   0.292186  0.486388  0.766371   \n",
              "bathrooms              0.087639      0.292186   1.000000  0.141718  0.334659   \n",
              "bedrooms              -0.062410      0.486388   0.141718  1.000000  0.233873   \n",
              "beds                   0.051892      0.766371   0.334659  0.233873  1.000000   \n",
              "price                 -0.184772      0.236382  -0.007504  0.417814  0.087751   \n",
              "minimum_nights         0.055504     -0.116067  -0.128437 -0.006324 -0.102889   \n",
              "maximum_nights        -0.071743      0.143616   0.019163  0.168743  0.029603   \n",
              "\n",
              "                         price  minimum_nights  maximum_nights  \n",
              "host_response_rate    0.042566        0.082939        0.003141  \n",
              "host_acceptance_rate -0.153365       -0.025052       -0.104906  \n",
              "latitude             -0.156090        0.055525        0.012879  \n",
              "longitude            -0.184772        0.055504       -0.071743  \n",
              "accommodates          0.236382       -0.116067        0.143616  \n",
              "bathrooms            -0.007504       -0.128437        0.019163  \n",
              "bedrooms              0.417814       -0.006324        0.168743  \n",
              "beds                  0.087751       -0.102889        0.029603  \n",
              "price                 1.000000       -0.136027        0.144654  \n",
              "minimum_nights       -0.136027        1.000000        0.021053  \n",
              "maximum_nights        0.144654        0.021053        1.000000  "
            ],
            "text/html": [
              "\n",
              "  <div id=\"df-84959987-66b3-42b8-83df-6abc2f291d99\">\n",
              "    <div class=\"colab-df-container\">\n",
              "      <div>\n",
              "<style scoped>\n",
              "    .dataframe tbody tr th:only-of-type {\n",
              "        vertical-align: middle;\n",
              "    }\n",
              "\n",
              "    .dataframe tbody tr th {\n",
              "        vertical-align: top;\n",
              "    }\n",
              "\n",
              "    .dataframe thead th {\n",
              "        text-align: right;\n",
              "    }\n",
              "</style>\n",
              "<table border=\"1\" class=\"dataframe\">\n",
              "  <thead>\n",
              "    <tr style=\"text-align: right;\">\n",
              "      <th></th>\n",
              "      <th>host_response_rate</th>\n",
              "      <th>host_acceptance_rate</th>\n",
              "      <th>latitude</th>\n",
              "      <th>longitude</th>\n",
              "      <th>accommodates</th>\n",
              "      <th>bathrooms</th>\n",
              "      <th>bedrooms</th>\n",
              "      <th>beds</th>\n",
              "      <th>price</th>\n",
              "      <th>minimum_nights</th>\n",
              "      <th>maximum_nights</th>\n",
              "    </tr>\n",
              "  </thead>\n",
              "  <tbody>\n",
              "    <tr>\n",
              "      <th>host_response_rate</th>\n",
              "      <td>1.000000</td>\n",
              "      <td>0.409867</td>\n",
              "      <td>-0.086563</td>\n",
              "      <td>-0.004730</td>\n",
              "      <td>-0.086177</td>\n",
              "      <td>-0.050273</td>\n",
              "      <td>-0.040897</td>\n",
              "      <td>-0.107371</td>\n",
              "      <td>0.042566</td>\n",
              "      <td>0.082939</td>\n",
              "      <td>0.003141</td>\n",
              "    </tr>\n",
              "    <tr>\n",
              "      <th>host_acceptance_rate</th>\n",
              "      <td>0.409867</td>\n",
              "      <td>1.000000</td>\n",
              "      <td>-0.070285</td>\n",
              "      <td>0.132879</td>\n",
              "      <td>-0.208164</td>\n",
              "      <td>-0.036522</td>\n",
              "      <td>-0.184610</td>\n",
              "      <td>-0.142376</td>\n",
              "      <td>-0.153365</td>\n",
              "      <td>-0.025052</td>\n",
              "      <td>-0.104906</td>\n",
              "    </tr>\n",
              "    <tr>\n",
              "      <th>latitude</th>\n",
              "      <td>-0.086563</td>\n",
              "      <td>-0.070285</td>\n",
              "      <td>1.000000</td>\n",
              "      <td>0.321947</td>\n",
              "      <td>0.084883</td>\n",
              "      <td>0.091559</td>\n",
              "      <td>0.111743</td>\n",
              "      <td>0.061606</td>\n",
              "      <td>-0.156090</td>\n",
              "      <td>0.055525</td>\n",
              "      <td>0.012879</td>\n",
              "    </tr>\n",
              "    <tr>\n",
              "      <th>longitude</th>\n",
              "      <td>-0.004730</td>\n",
              "      <td>0.132879</td>\n",
              "      <td>0.321947</td>\n",
              "      <td>1.000000</td>\n",
              "      <td>0.028029</td>\n",
              "      <td>0.087639</td>\n",
              "      <td>-0.062410</td>\n",
              "      <td>0.051892</td>\n",
              "      <td>-0.184772</td>\n",
              "      <td>0.055504</td>\n",
              "      <td>-0.071743</td>\n",
              "    </tr>\n",
              "    <tr>\n",
              "      <th>accommodates</th>\n",
              "      <td>-0.086177</td>\n",
              "      <td>-0.208164</td>\n",
              "      <td>0.084883</td>\n",
              "      <td>0.028029</td>\n",
              "      <td>1.000000</td>\n",
              "      <td>0.292186</td>\n",
              "      <td>0.486388</td>\n",
              "      <td>0.766371</td>\n",
              "      <td>0.236382</td>\n",
              "      <td>-0.116067</td>\n",
              "      <td>0.143616</td>\n",
              "    </tr>\n",
              "    <tr>\n",
              "      <th>bathrooms</th>\n",
              "      <td>-0.050273</td>\n",
              "      <td>-0.036522</td>\n",
              "      <td>0.091559</td>\n",
              "      <td>0.087639</td>\n",
              "      <td>0.292186</td>\n",
              "      <td>1.000000</td>\n",
              "      <td>0.141718</td>\n",
              "      <td>0.334659</td>\n",
              "      <td>-0.007504</td>\n",
              "      <td>-0.128437</td>\n",
              "      <td>0.019163</td>\n",
              "    </tr>\n",
              "    <tr>\n",
              "      <th>bedrooms</th>\n",
              "      <td>-0.040897</td>\n",
              "      <td>-0.184610</td>\n",
              "      <td>0.111743</td>\n",
              "      <td>-0.062410</td>\n",
              "      <td>0.486388</td>\n",
              "      <td>0.141718</td>\n",
              "      <td>1.000000</td>\n",
              "      <td>0.233873</td>\n",
              "      <td>0.417814</td>\n",
              "      <td>-0.006324</td>\n",
              "      <td>0.168743</td>\n",
              "    </tr>\n",
              "    <tr>\n",
              "      <th>beds</th>\n",
              "      <td>-0.107371</td>\n",
              "      <td>-0.142376</td>\n",
              "      <td>0.061606</td>\n",
              "      <td>0.051892</td>\n",
              "      <td>0.766371</td>\n",
              "      <td>0.334659</td>\n",
              "      <td>0.233873</td>\n",
              "      <td>1.000000</td>\n",
              "      <td>0.087751</td>\n",
              "      <td>-0.102889</td>\n",
              "      <td>0.029603</td>\n",
              "    </tr>\n",
              "    <tr>\n",
              "      <th>price</th>\n",
              "      <td>0.042566</td>\n",
              "      <td>-0.153365</td>\n",
              "      <td>-0.156090</td>\n",
              "      <td>-0.184772</td>\n",
              "      <td>0.236382</td>\n",
              "      <td>-0.007504</td>\n",
              "      <td>0.417814</td>\n",
              "      <td>0.087751</td>\n",
              "      <td>1.000000</td>\n",
              "      <td>-0.136027</td>\n",
              "      <td>0.144654</td>\n",
              "    </tr>\n",
              "    <tr>\n",
              "      <th>minimum_nights</th>\n",
              "      <td>0.082939</td>\n",
              "      <td>-0.025052</td>\n",
              "      <td>0.055525</td>\n",
              "      <td>0.055504</td>\n",
              "      <td>-0.116067</td>\n",
              "      <td>-0.128437</td>\n",
              "      <td>-0.006324</td>\n",
              "      <td>-0.102889</td>\n",
              "      <td>-0.136027</td>\n",
              "      <td>1.000000</td>\n",
              "      <td>0.021053</td>\n",
              "    </tr>\n",
              "    <tr>\n",
              "      <th>maximum_nights</th>\n",
              "      <td>0.003141</td>\n",
              "      <td>-0.104906</td>\n",
              "      <td>0.012879</td>\n",
              "      <td>-0.071743</td>\n",
              "      <td>0.143616</td>\n",
              "      <td>0.019163</td>\n",
              "      <td>0.168743</td>\n",
              "      <td>0.029603</td>\n",
              "      <td>0.144654</td>\n",
              "      <td>0.021053</td>\n",
              "      <td>1.000000</td>\n",
              "    </tr>\n",
              "  </tbody>\n",
              "</table>\n",
              "</div>\n",
              "      <button class=\"colab-df-convert\" onclick=\"convertToInteractive('df-84959987-66b3-42b8-83df-6abc2f291d99')\"\n",
              "              title=\"Convert this dataframe to an interactive table.\"\n",
              "              style=\"display:none;\">\n",
              "        \n",
              "  <svg xmlns=\"http://www.w3.org/2000/svg\" height=\"24px\"viewBox=\"0 0 24 24\"\n",
              "       width=\"24px\">\n",
              "    <path d=\"M0 0h24v24H0V0z\" fill=\"none\"/>\n",
              "    <path d=\"M18.56 5.44l.94 2.06.94-2.06 2.06-.94-2.06-.94-.94-2.06-.94 2.06-2.06.94zm-11 1L8.5 8.5l.94-2.06 2.06-.94-2.06-.94L8.5 2.5l-.94 2.06-2.06.94zm10 10l.94 2.06.94-2.06 2.06-.94-2.06-.94-.94-2.06-.94 2.06-2.06.94z\"/><path d=\"M17.41 7.96l-1.37-1.37c-.4-.4-.92-.59-1.43-.59-.52 0-1.04.2-1.43.59L10.3 9.45l-7.72 7.72c-.78.78-.78 2.05 0 2.83L4 21.41c.39.39.9.59 1.41.59.51 0 1.02-.2 1.41-.59l7.78-7.78 2.81-2.81c.8-.78.8-2.07 0-2.86zM5.41 20L4 18.59l7.72-7.72 1.47 1.35L5.41 20z\"/>\n",
              "  </svg>\n",
              "      </button>\n",
              "      \n",
              "  <style>\n",
              "    .colab-df-container {\n",
              "      display:flex;\n",
              "      flex-wrap:wrap;\n",
              "      gap: 12px;\n",
              "    }\n",
              "\n",
              "    .colab-df-convert {\n",
              "      background-color: #E8F0FE;\n",
              "      border: none;\n",
              "      border-radius: 50%;\n",
              "      cursor: pointer;\n",
              "      display: none;\n",
              "      fill: #1967D2;\n",
              "      height: 32px;\n",
              "      padding: 0 0 0 0;\n",
              "      width: 32px;\n",
              "    }\n",
              "\n",
              "    .colab-df-convert:hover {\n",
              "      background-color: #E2EBFA;\n",
              "      box-shadow: 0px 1px 2px rgba(60, 64, 67, 0.3), 0px 1px 3px 1px rgba(60, 64, 67, 0.15);\n",
              "      fill: #174EA6;\n",
              "    }\n",
              "\n",
              "    [theme=dark] .colab-df-convert {\n",
              "      background-color: #3B4455;\n",
              "      fill: #D2E3FC;\n",
              "    }\n",
              "\n",
              "    [theme=dark] .colab-df-convert:hover {\n",
              "      background-color: #434B5C;\n",
              "      box-shadow: 0px 1px 3px 1px rgba(0, 0, 0, 0.15);\n",
              "      filter: drop-shadow(0px 1px 2px rgba(0, 0, 0, 0.3));\n",
              "      fill: #FFFFFF;\n",
              "    }\n",
              "  </style>\n",
              "\n",
              "      <script>\n",
              "        const buttonEl =\n",
              "          document.querySelector('#df-84959987-66b3-42b8-83df-6abc2f291d99 button.colab-df-convert');\n",
              "        buttonEl.style.display =\n",
              "          google.colab.kernel.accessAllowed ? 'block' : 'none';\n",
              "\n",
              "        async function convertToInteractive(key) {\n",
              "          const element = document.querySelector('#df-84959987-66b3-42b8-83df-6abc2f291d99');\n",
              "          const dataTable =\n",
              "            await google.colab.kernel.invokeFunction('convertToInteractive',\n",
              "                                                     [key], {});\n",
              "          if (!dataTable) return;\n",
              "\n",
              "          const docLinkHtml = 'Like what you see? Visit the ' +\n",
              "            '<a target=\"_blank\" href=https://colab.research.google.com/notebooks/data_table.ipynb>data table notebook</a>'\n",
              "            + ' to learn more about interactive tables.';\n",
              "          element.innerHTML = '';\n",
              "          dataTable['output_type'] = 'display_data';\n",
              "          await google.colab.output.renderOutput(dataTable, element);\n",
              "          const docLink = document.createElement('div');\n",
              "          docLink.innerHTML = docLinkHtml;\n",
              "          element.appendChild(docLink);\n",
              "        }\n",
              "      </script>\n",
              "    </div>\n",
              "  </div>\n",
              "  "
            ]
          },
          "metadata": {},
          "execution_count": 23
        }
      ]
    },
    {
      "cell_type": "code",
      "source": [
        "plt.figure(figsize=(20,10))\n",
        "sns.heatmap(listing_clean.corr(), annot=True, fmt=\".3g\")\n",
        "plt.show()"
      ],
      "metadata": {
        "colab": {
          "base_uri": "https://localhost:8080/",
          "height": 684
        },
        "id": "-M-PFZ-UsGLF",
        "outputId": "34be8b50-72bf-46a2-bce3-568e10df3af6"
      },
      "execution_count": 24,
      "outputs": [
        {
          "output_type": "display_data",
          "data": {
            "text/plain": [
              "<Figure size 1440x720 with 2 Axes>"
            ],
            "image/png": "[encoded data removed]"
          },
          "metadata": {}
        }
      ]
    },
    {
      "cell_type": "code",
      "source": [
        "listing_clean.plot.scatter(x='price',y='bedrooms',c='DarkBlue')\n"
      ],
      "metadata": {
        "colab": {
          "base_uri": "https://localhost:8080/",
          "height": 378
        },
        "id": "gPWdrcAD6ok3",
        "outputId": "cd764a52-112c-4f68-c1d9-5b85da8f4d1b"
      },
      "execution_count": 25,
      "outputs": [
        {
          "output_type": "execute_result",
          "data": {
            "text/plain": [
              "<matplotlib.axes._subplots.AxesSubplot at 0x7f275dafe6d0>"
            ]
          },
          "metadata": {},
          "execution_count": 25
        },
        {
          "output_type": "display_data",
          "data": {
            "text/plain": [
              "<Figure size 576x396 with 1 Axes>"
            ],
            "image/png": "[encoded data removed]"
          },
          "metadata": {}
        }
      ]
    },
    {
      "cell_type": "code",
      "source": [
        "listing_clean.plot.scatter(x='price',y='accommodates',c='DarkBlue')"
      ],
      "metadata": {
        "colab": {
          "base_uri": "https://localhost:8080/",
          "height": 378
        },
        "id": "BuCtYoog8GCE",
        "outputId": "b58f8a21-4d00-4117-df14-1c4fbce67fb0"
      },
      "execution_count": 26,
      "outputs": [
        {
          "output_type": "execute_result",
          "data": {
            "text/plain": [
              "<matplotlib.axes._subplots.AxesSubplot at 0x7f275d98cb90>"
            ]
          },
          "metadata": {},
          "execution_count": 26
        },
        {
          "output_type": "display_data",
          "data": {
            "text/plain": [
              "<Figure size 576x396 with 1 Axes>"
            ],
            "image/png": "[encoded data removed]"
          },
          "metadata": {}
        }
      ]
    },
    {
      "cell_type": "code",
      "source": [
        "listing_clean.plot.scatter(x='price',y='maximum_nights',c='DarkBlue')\n"
      ],
      "metadata": {
        "colab": {
          "base_uri": "https://localhost:8080/",
          "height": 378
        },
        "id": "4OgAbuLA65B1",
        "outputId": "22b2e31c-ffb4-4790-8900-a4d48439cec8"
      },
      "execution_count": 27,
      "outputs": [
        {
          "output_type": "execute_result",
          "data": {
            "text/plain": [
              "<matplotlib.axes._subplots.AxesSubplot at 0x7f2781859e50>"
            ]
          },
          "metadata": {},
          "execution_count": 27
        },
        {
          "output_type": "display_data",
          "data": {
            "text/plain": [
              "<Figure size 576x396 with 1 Axes>"
            ],
            "image/png": "[encoded data removed]"
          },
          "metadata": {}
        }
      ]
    },
    {
      "cell_type": "code",
      "source": [
        "listing_clean.plot.scatter(x='price',y='beds',c='DarkBlue')"
      ],
      "metadata": {
        "colab": {
          "base_uri": "https://localhost:8080/",
          "height": 378
        },
        "id": "xsaWhk6H8LjP",
        "outputId": "d02e9f5d-65a9-46d3-ca22-ffa5da1c6753"
      },
      "execution_count": 28,
      "outputs": [
        {
          "output_type": "execute_result",
          "data": {
            "text/plain": [
              "<matplotlib.axes._subplots.AxesSubplot at 0x7f275d19c950>"
            ]
          },
          "metadata": {},
          "execution_count": 28
        },
        {
          "output_type": "display_data",
          "data": {
            "text/plain": [
              "<Figure size 576x396 with 1 Axes>"
            ],
            "image/png": "[encoded data removed]"
          },
          "metadata": {}
        }
      ]
    },
    {
      "cell_type": "code",
      "source": [
        "listing_clean.plot.scatter(x='price',y='host_response_rate',c='DarkBlue')"
      ],
      "metadata": {
        "colab": {
          "base_uri": "https://localhost:8080/",
          "height": 378
        },
        "id": "gmquLED48OQd",
        "outputId": "2f78fb2f-9504-4326-b2d7-8bcbf8e4cbaa"
      },
      "execution_count": 29,
      "outputs": [
        {
          "output_type": "execute_result",
          "data": {
            "text/plain": [
              "<matplotlib.axes._subplots.AxesSubplot at 0x7f275d1a3210>"
            ]
          },
          "metadata": {},
          "execution_count": 29
        },
        {
          "output_type": "display_data",
          "data": {
            "text/plain": [
              "<Figure size 576x396 with 1 Axes>"
            ],
            "image/png": "[encoded data removed]"
          },
          "metadata": {}
        }
      ]
    },
    {
      "cell_type": "code",
      "source": [
        "listing_clean.plot.scatter(x='price',y='bathrooms',c='DarkBlue')"
      ],
      "metadata": {
        "colab": {
          "base_uri": "https://localhost:8080/",
          "height": 378
        },
        "id": "k4ckiuL48Q7m",
        "outputId": "209ebc07-1632-433d-e462-e69a129e4498"
      },
      "execution_count": 30,
      "outputs": [
        {
          "output_type": "execute_result",
          "data": {
            "text/plain": [
              "<matplotlib.axes._subplots.AxesSubplot at 0x7f275ebaf950>"
            ]
          },
          "metadata": {},
          "execution_count": 30
        },
        {
          "output_type": "display_data",
          "data": {
            "text/plain": [
              "<Figure size 576x396 with 1 Axes>"
            ],
            "image/png": "[encoded data removed]"
          },
          "metadata": {}
        }
      ]
    },
    {
      "cell_type": "code",
      "source": [
        "listing_clean.plot.scatter(x='price',y='minimum_nights',c='DarkBlue')"
      ],
      "metadata": {
        "colab": {
          "base_uri": "https://localhost:8080/",
          "height": 378
        },
        "id": "9Gvw8to58Wbi",
        "outputId": "6c32dbd0-b8e0-48ee-e0e5-d1188e2bdf8d"
      },
      "execution_count": 31,
      "outputs": [
        {
          "output_type": "execute_result",
          "data": {
            "text/plain": [
              "<matplotlib.axes._subplots.AxesSubplot at 0x7f275d8dc350>"
            ]
          },
          "metadata": {},
          "execution_count": 31
        },
        {
          "output_type": "display_data",
          "data": {
            "text/plain": [
              "<Figure size 576x396 with 1 Axes>"
            ],
            "image/png": "[encoded data removed]"
          },
          "metadata": {}
        }
      ]
    },
    {
      "cell_type": "code",
      "source": [
        "listing_clean.plot.scatter(x='price',y='latitude',c='DarkBlue')"
      ],
      "metadata": {
        "colab": {
          "base_uri": "https://localhost:8080/",
          "height": 378
        },
        "id": "5q0yaeUh8Zxn",
        "outputId": "635b60fd-87cb-4d09-e057-62921f2b3cac"
      },
      "execution_count": 32,
      "outputs": [
        {
          "output_type": "execute_result",
          "data": {
            "text/plain": [
              "<matplotlib.axes._subplots.AxesSubplot at 0x7f275d21b2d0>"
            ]
          },
          "metadata": {},
          "execution_count": 32
        },
        {
          "output_type": "display_data",
          "data": {
            "text/plain": [
              "<Figure size 576x396 with 1 Axes>"
            ],
            "image/png": "[encoded data removed]"
          },
          "metadata": {}
        }
      ]
    },
    {
      "cell_type": "code",
      "source": [
        "listing_clean.plot.scatter(x='price',y='longitude',c='DarkBlue')"
      ],
      "metadata": {
        "colab": {
          "base_uri": "https://localhost:8080/",
          "height": 378
        },
        "id": "uIKWj6wx8coT",
        "outputId": "4384c367-ff1e-413c-9488-38dab359e369"
      },
      "execution_count": 33,
      "outputs": [
        {
          "output_type": "execute_result",
          "data": {
            "text/plain": [
              "<matplotlib.axes._subplots.AxesSubplot at 0x7f275b732850>"
            ]
          },
          "metadata": {},
          "execution_count": 33
        },
        {
          "output_type": "display_data",
          "data": {
            "text/plain": [
              "<Figure size 576x396 with 1 Axes>"
            ],
            "image/png": "[encoded data removed]"
          },
          "metadata": {}
        }
      ]
    },
    {
      "cell_type": "markdown",
      "metadata": {
        "id": "E0Y-mrCbjHT4"
      },
      "source": [
        "# ML methods"
      ]
    },
    {
      "cell_type": "code",
      "source": [
        "corr_table['price'].sort_values(ascending=False)"
      ],
      "metadata": {
        "colab": {
          "base_uri": "https://localhost:8080/",
          "height": 0
        },
        "id": "I_Q3HGNOsXif",
        "outputId": "105e8620-be69-4b0e-a842-070c16d9d6bf"
      },
      "execution_count": 34,
      "outputs": [
        {
          "output_type": "execute_result",
          "data": {
            "text/plain": [
              "price                   1.000000\n",
              "bedrooms                0.417814\n",
              "accommodates            0.236382\n",
              "maximum_nights          0.144654\n",
              "beds                    0.087751\n",
              "host_response_rate      0.042566\n",
              "bathrooms              -0.007504\n",
              "minimum_nights         -0.136027\n",
              "host_acceptance_rate   -0.153365\n",
              "latitude               -0.156090\n",
              "longitude              -0.184772\n",
              "Name: price, dtype: float64"
            ]
          },
          "metadata": {},
          "execution_count": 34
        }
      ]
    },
    {
      "cell_type": "code",
      "source": [
        "X, y = listing_clean.loc[:, listing_clean.columns != 'price'], listing_clean['price']"
      ],
      "metadata": {
        "id": "iNMXOMq_RfsB"
      },
      "execution_count": 35,
      "outputs": []
    },
    {
      "cell_type": "code",
      "source": [
        "X.columns"
      ],
      "metadata": {
        "colab": {
          "base_uri": "https://localhost:8080/",
          "height": 0
        },
        "id": "btLH0DzCtCMv",
        "outputId": "534ae935-a96c-4b20-fd90-6e88a82c3d2d"
      },
      "execution_count": 36,
      "outputs": [
        {
          "output_type": "execute_result",
          "data": {
            "text/plain": [
              "Index(['host_response_time', 'host_response_rate', 'host_acceptance_rate',\n",
              "       'host_is_superhost', 'host_has_profile_pic', 'host_identity_verified',\n",
              "       'latitude', 'longitude', 'room_type', 'accommodates', 'bathrooms',\n",
              "       'bedrooms', 'beds', 'minimum_nights', 'maximum_nights',\n",
              "       'has_availability', 'instant_bookable'],\n",
              "      dtype='object')"
            ]
          },
          "metadata": {},
          "execution_count": 36
        }
      ]
    },
    {
      "cell_type": "code",
      "source": [
        "X = pd.get_dummies(X, columns=[\"host_response_time\",\"host_is_superhost\",\"host_has_profile_pic\", 'host_identity_verified','room_type','has_availability', 'instant_bookable'], prefix=[\"host_response_time\",\"host_is_superhost\",\"host_has_profile_pic\", 'host_identity_verified','room_type','has_availability', 'instant_bookable'], drop_first=True) #we add a prefix for easier identification"
      ],
      "metadata": {
        "id": "t9dsW2Nfs9Ss"
      },
      "execution_count": 37,
      "outputs": []
    },
    {
      "cell_type": "code",
      "source": [
        "X.head()"
      ],
      "metadata": {
        "colab": {
          "base_uri": "https://localhost:8080/",
          "height": 317
        },
        "id": "k7xbLa2NtqJH",
        "outputId": "9c55900b-be83-4d8d-90fa-e43cf364cb2c"
      },
      "execution_count": 38,
      "outputs": [
        {
          "output_type": "execute_result",
          "data": {
            "text/plain": [
              "    host_response_rate  host_acceptance_rate  latitude  longitude  \\\n",
              "5                 87.0                  77.0   1.28836  103.81144   \n",
              "6                 95.0                   0.0   1.31142  103.83924   \n",
              "7                 87.0                  77.0   1.28828  103.81020   \n",
              "9                 87.0                  77.0   1.28636  103.81138   \n",
              "12                95.0                   0.0   1.31144  103.83784   \n",
              "\n",
              "    accommodates  bathrooms  bedrooms  beds  minimum_nights  maximum_nights  \\\n",
              "5              1        1.0       1.0   1.0              14             999   \n",
              "6              2        1.0       1.0   1.0              90            1125   \n",
              "7              1        0.0       1.0   1.0              14             999   \n",
              "9              1        4.0       1.0   1.0              60             999   \n",
              "12             2        1.0       1.0   1.0               3             180   \n",
              "\n",
              "    ...  host_response_time_within a few hours  \\\n",
              "5   ...                                      1   \n",
              "6   ...                                      1   \n",
              "7   ...                                      1   \n",
              "9   ...                                      1   \n",
              "12  ...                                      1   \n",
              "\n",
              "    host_response_time_within an hour  host_is_superhost_t  \\\n",
              "5                                   0                    0   \n",
              "6                                   0                    0   \n",
              "7                                   0                    0   \n",
              "9                                   0                    0   \n",
              "12                                  0                    0   \n",
              "\n",
              "    host_has_profile_pic_t  host_identity_verified_t  room_type_Hotel room  \\\n",
              "5                        1                         1                     0   \n",
              "6                        1                         1                     0   \n",
              "7                        1                         1                     0   \n",
              "9                        1                         1                     0   \n",
              "12                       1                         1                     0   \n",
              "\n",
              "    room_type_Private room  room_type_Shared room  has_availability_t  \\\n",
              "5                        1                      0                   1   \n",
              "6                        1                      0                   1   \n",
              "7                        1                      0                   1   \n",
              "9                        1                      0                   1   \n",
              "12                       1                      0                   1   \n",
              "\n",
              "    instant_bookable_t  \n",
              "5                    0  \n",
              "6                    0  \n",
              "7                    0  \n",
              "9                    0  \n",
              "12                   0  \n",
              "\n",
              "[5 rows x 21 columns]"
            ],
            "text/html": [
              "\n",
              "  <div id=\"df-c7253d4e-a728-457f-8a2a-0586770df374\">\n",
              "    <div class=\"colab-df-container\">\n",
              "      <div>\n",
              "<style scoped>\n",
              "    .dataframe tbody tr th:only-of-type {\n",
              "        vertical-align: middle;\n",
              "    }\n",
              "\n",
              "    .dataframe tbody tr th {\n",
              "        vertical-align: top;\n",
              "    }\n",
              "\n",
              "    .dataframe thead th {\n",
              "        text-align: right;\n",
              "    }\n",
              "</style>\n",
              "<table border=\"1\" class=\"dataframe\">\n",
              "  <thead>\n",
              "    <tr style=\"text-align: right;\">\n",
              "      <th></th>\n",
              "      <th>host_response_rate</th>\n",
              "      <th>host_acceptance_rate</th>\n",
              "      <th>latitude</th>\n",
              "      <th>longitude</th>\n",
              "      <th>accommodates</th>\n",
              "      <th>bathrooms</th>\n",
              "      <th>bedrooms</th>\n",
              "      <th>beds</th>\n",
              "      <th>minimum_nights</th>\n",
              "      <th>maximum_nights</th>\n",
              "      <th>...</th>\n",
              "      <th>host_response_time_within a few hours</th>\n",
              "      <th>host_response_time_within an hour</th>\n",
              "      <th>host_is_superhost_t</th>\n",
              "      <th>host_has_profile_pic_t</th>\n",
              "      <th>host_identity_verified_t</th>\n",
              "      <th>room_type_Hotel room</th>\n",
              "      <th>room_type_Private room</th>\n",
              "      <th>room_type_Shared room</th>\n",
              "      <th>has_availability_t</th>\n",
              "      <th>instant_bookable_t</th>\n",
              "    </tr>\n",
              "  </thead>\n",
              "  <tbody>\n",
              "    <tr>\n",
              "      <th>5</th>\n",
              "      <td>87.0</td>\n",
              "      <td>77.0</td>\n",
              "      <td>1.28836</td>\n",
              "      <td>103.81144</td>\n",
              "      <td>1</td>\n",
              "      <td>1.0</td>\n",
              "      <td>1.0</td>\n",
              "      <td>1.0</td>\n",
              "      <td>14</td>\n",
              "      <td>999</td>\n",
              "      <td>...</td>\n",
              "      <td>1</td>\n",
              "      <td>0</td>\n",
              "      <td>0</td>\n",
              "      <td>1</td>\n",
              "      <td>1</td>\n",
              "      <td>0</td>\n",
              "      <td>1</td>\n",
              "      <td>0</td>\n",
              "      <td>1</td>\n",
              "      <td>0</td>\n",
              "    </tr>\n",
              "    <tr>\n",
              "      <th>6</th>\n",
              "      <td>95.0</td>\n",
              "      <td>0.0</td>\n",
              "      <td>1.31142</td>\n",
              "      <td>103.83924</td>\n",
              "      <td>2</td>\n",
              "      <td>1.0</td>\n",
              "      <td>1.0</td>\n",
              "      <td>1.0</td>\n",
              "      <td>90</td>\n",
              "      <td>1125</td>\n",
              "      <td>...</td>\n",
              "      <td>1</td>\n",
              "      <td>0</td>\n",
              "      <td>0</td>\n",
              "      <td>1</td>\n",
              "      <td>1</td>\n",
              "      <td>0</td>\n",
              "      <td>1</td>\n",
              "      <td>0</td>\n",
              "      <td>1</td>\n",
              "      <td>0</td>\n",
              "    </tr>\n",
              "    <tr>\n",
              "      <th>7</th>\n",
              "      <td>87.0</td>\n",
              "      <td>77.0</td>\n",
              "      <td>1.28828</td>\n",
              "      <td>103.81020</td>\n",
              "      <td>1</td>\n",
              "      <td>0.0</td>\n",
              "      <td>1.0</td>\n",
              "      <td>1.0</td>\n",
              "      <td>14</td>\n",
              "      <td>999</td>\n",
              "      <td>...</td>\n",
              "      <td>1</td>\n",
              "      <td>0</td>\n",
              "      <td>0</td>\n",
              "      <td>1</td>\n",
              "      <td>1</td>\n",
              "      <td>0</td>\n",
              "      <td>1</td>\n",
              "      <td>0</td>\n",
              "      <td>1</td>\n",
              "      <td>0</td>\n",
              "    </tr>\n",
              "    <tr>\n",
              "      <th>9</th>\n",
              "      <td>87.0</td>\n",
              "      <td>77.0</td>\n",
              "      <td>1.28636</td>\n",
              "      <td>103.81138</td>\n",
              "      <td>1</td>\n",
              "      <td>4.0</td>\n",
              "      <td>1.0</td>\n",
              "      <td>1.0</td>\n",
              "      <td>60</td>\n",
              "      <td>999</td>\n",
              "      <td>...</td>\n",
              "      <td>1</td>\n",
              "      <td>0</td>\n",
              "      <td>0</td>\n",
              "      <td>1</td>\n",
              "      <td>1</td>\n",
              "      <td>0</td>\n",
              "      <td>1</td>\n",
              "      <td>0</td>\n",
              "      <td>1</td>\n",
              "      <td>0</td>\n",
              "    </tr>\n",
              "    <tr>\n",
              "      <th>12</th>\n",
              "      <td>95.0</td>\n",
              "      <td>0.0</td>\n",
              "      <td>1.31144</td>\n",
              "      <td>103.83784</td>\n",
              "      <td>2</td>\n",
              "      <td>1.0</td>\n",
              "      <td>1.0</td>\n",
              "      <td>1.0</td>\n",
              "      <td>3</td>\n",
              "      <td>180</td>\n",
              "      <td>...</td>\n",
              "      <td>1</td>\n",
              "      <td>0</td>\n",
              "      <td>0</td>\n",
              "      <td>1</td>\n",
              "      <td>1</td>\n",
              "      <td>0</td>\n",
              "      <td>1</td>\n",
              "      <td>0</td>\n",
              "      <td>1</td>\n",
              "      <td>0</td>\n",
              "    </tr>\n",
              "  </tbody>\n",
              "</table>\n",
              "<p>5 rows × 21 columns</p>\n",
              "</div>\n",
              "      <button class=\"colab-df-convert\" onclick=\"convertToInteractive('df-c7253d4e-a728-457f-8a2a-0586770df374')\"\n",
              "              title=\"Convert this dataframe to an interactive table.\"\n",
              "              style=\"display:none;\">\n",
              "        \n",
              "  <svg xmlns=\"http://www.w3.org/2000/svg\" height=\"24px\"viewBox=\"0 0 24 24\"\n",
              "       width=\"24px\">\n",
              "    <path d=\"M0 0h24v24H0V0z\" fill=\"none\"/>\n",
              "    <path d=\"M18.56 5.44l.94 2.06.94-2.06 2.06-.94-2.06-.94-.94-2.06-.94 2.06-2.06.94zm-11 1L8.5 8.5l.94-2.06 2.06-.94-2.06-.94L8.5 2.5l-.94 2.06-2.06.94zm10 10l.94 2.06.94-2.06 2.06-.94-2.06-.94-.94-2.06-.94 2.06-2.06.94z\"/><path d=\"M17.41 7.96l-1.37-1.37c-.4-.4-.92-.59-1.43-.59-.52 0-1.04.2-1.43.59L10.3 9.45l-7.72 7.72c-.78.78-.78 2.05 0 2.83L4 21.41c.39.39.9.59 1.41.59.51 0 1.02-.2 1.41-.59l7.78-7.78 2.81-2.81c.8-.78.8-2.07 0-2.86zM5.41 20L4 18.59l7.72-7.72 1.47 1.35L5.41 20z\"/>\n",
              "  </svg>\n",
              "      </button>\n",
              "      \n",
              "  <style>\n",
              "    .colab-df-container {\n",
              "      display:flex;\n",
              "      flex-wrap:wrap;\n",
              "      gap: 12px;\n",
              "    }\n",
              "\n",
              "    .colab-df-convert {\n",
              "      background-color: #E8F0FE;\n",
              "      border: none;\n",
              "      border-radius: 50%;\n",
              "      cursor: pointer;\n",
              "      display: none;\n",
              "      fill: #1967D2;\n",
              "      height: 32px;\n",
              "      padding: 0 0 0 0;\n",
              "      width: 32px;\n",
              "    }\n",
              "\n",
              "    .colab-df-convert:hover {\n",
              "      background-color: #E2EBFA;\n",
              "      box-shadow: 0px 1px 2px rgba(60, 64, 67, 0.3), 0px 1px 3px 1px rgba(60, 64, 67, 0.15);\n",
              "      fill: #174EA6;\n",
              "    }\n",
              "\n",
              "    [theme=dark] .colab-df-convert {\n",
              "      background-color: #3B4455;\n",
              "      fill: #D2E3FC;\n",
              "    }\n",
              "\n",
              "    [theme=dark] .colab-df-convert:hover {\n",
              "      background-color: #434B5C;\n",
              "      box-shadow: 0px 1px 3px 1px rgba(0, 0, 0, 0.15);\n",
              "      filter: drop-shadow(0px 1px 2px rgba(0, 0, 0, 0.3));\n",
              "      fill: #FFFFFF;\n",
              "    }\n",
              "  </style>\n",
              "\n",
              "      <script>\n",
              "        const buttonEl =\n",
              "          document.querySelector('#df-c7253d4e-a728-457f-8a2a-0586770df374 button.colab-df-convert');\n",
              "        buttonEl.style.display =\n",
              "          google.colab.kernel.accessAllowed ? 'block' : 'none';\n",
              "\n",
              "        async function convertToInteractive(key) {\n",
              "          const element = document.querySelector('#df-c7253d4e-a728-457f-8a2a-0586770df374');\n",
              "          const dataTable =\n",
              "            await google.colab.kernel.invokeFunction('convertToInteractive',\n",
              "                                                     [key], {});\n",
              "          if (!dataTable) return;\n",
              "\n",
              "          const docLinkHtml = 'Like what you see? Visit the ' +\n",
              "            '<a target=\"_blank\" href=https://colab.research.google.com/notebooks/data_table.ipynb>data table notebook</a>'\n",
              "            + ' to learn more about interactive tables.';\n",
              "          element.innerHTML = '';\n",
              "          dataTable['output_type'] = 'display_data';\n",
              "          await google.colab.output.renderOutput(dataTable, element);\n",
              "          const docLink = document.createElement('div');\n",
              "          docLink.innerHTML = docLinkHtml;\n",
              "          element.appendChild(docLink);\n",
              "        }\n",
              "      </script>\n",
              "    </div>\n",
              "  </div>\n",
              "  "
            ]
          },
          "metadata": {},
          "execution_count": 38
        }
      ]
    },
    {
      "cell_type": "code",
      "source": [
        "from sklearn.model_selection import train_test_split\n",
        "X_rem, X_test, y_rem, y_test = train_test_split(X, y, test_size = 0.2, random_state = 1234)"
      ],
      "metadata": {
        "id": "1G7iXf8ItxU4"
      },
      "execution_count": 39,
      "outputs": []
    },
    {
      "cell_type": "markdown",
      "source": [
        "## Linear Regression Model"
      ],
      "metadata": {
        "id": "dSFOWUfGx9fJ"
      }
    },
    {
      "cell_type": "code",
      "source": [
        "from sklearn.model_selection import KFold\n",
        "k, shuffle, seed = 3, True, 42\n",
        "kfold = KFold(n_splits=k, shuffle=shuffle, random_state=seed)"
      ],
      "metadata": {
        "id": "kWkgXTg1ufCg"
      },
      "execution_count": 40,
      "outputs": []
    },
    {
      "cell_type": "code",
      "source": [
        "from sklearn.model_selection import cross_val_score\n",
        "from sklearn.linear_model import LinearRegression\n",
        "from sklearn.preprocessing import PolynomialFeatures\n",
        "from numpy import absolute,mean\n",
        "import numpy as np"
      ],
      "metadata": {
        "id": "9d8SibKpvCVF"
      },
      "execution_count": 41,
      "outputs": []
    },
    {
      "cell_type": "code",
      "source": [
        "from sklearn.preprocessing import StandardScaler\n",
        "from sklearn.metrics import mean_absolute_error"
      ],
      "metadata": {
        "id": "43zJA9cjwvaT"
      },
      "execution_count": 42,
      "outputs": []
    },
    {
      "cell_type": "code",
      "source": [
        "tr_errors = [] \n",
        "val_errors = []\n",
        "for j, (train_indices, val_indices) in enumerate(kfold.split(X_rem)): \n",
        "  X_train, y_train, X_val, y_val = X_rem.iloc[train_indices], y_rem.iloc[train_indices], X_rem.iloc[val_indices], y_rem.iloc[val_indices]\n",
        "        \n",
        "  lin_regr = LinearRegression() \n",
        "  lin_regr.fit(X_train, y_train)   \n",
        "  y_pred_train = lin_regr.predict(X_train)    # predict using the linear model\n",
        "  tr_error = mean_absolute_error(y_train, y_pred_train)    # calculate the training error\n",
        "  y_pred_val = lin_regr.predict(X_val) # predict labels for the validation data using the linear model \n",
        "  val_error = mean_absolute_error(y_val, y_pred_val) # calculate the validation error\n",
        "  tr_errors.append(tr_error) \n",
        "  val_errors.append(val_error)\n",
        "    "
      ],
      "metadata": {
        "id": "2RqrpHDbnK3n"
      },
      "execution_count": 43,
      "outputs": []
    },
    {
      "cell_type": "code",
      "source": [
        "mean(tr_errors)"
      ],
      "metadata": {
        "colab": {
          "base_uri": "https://localhost:8080/",
          "height": 0
        },
        "id": "RhNf4RP1aQoD",
        "outputId": "94d7feb2-fde9-4917-eb3f-8f24ed181777"
      },
      "execution_count": 44,
      "outputs": [
        {
          "output_type": "execute_result",
          "data": {
            "text/plain": [
              "97.02356476695938"
            ]
          },
          "metadata": {},
          "execution_count": 44
        }
      ]
    },
    {
      "cell_type": "code",
      "source": [
        "mean(val_errors)"
      ],
      "metadata": {
        "colab": {
          "base_uri": "https://localhost:8080/",
          "height": 0
        },
        "id": "gu7PWhKzaQQC",
        "outputId": "0e4538aa-6b4d-4965-8c9f-d1da28d431b0"
      },
      "execution_count": 45,
      "outputs": [
        {
          "output_type": "execute_result",
          "data": {
            "text/plain": [
              "98.41369994534428"
            ]
          },
          "metadata": {},
          "execution_count": 45
        }
      ]
    },
    {
      "cell_type": "markdown",
      "source": [
        "## Polynomial Regression Model"
      ],
      "metadata": {
        "id": "ylBXy-BRaWgf"
      }
    },
    {
      "cell_type": "code",
      "source": [
        "alphas = 10**np.linspace(10,-2,100)*0.5\n",
        "alphas"
      ],
      "metadata": {
        "colab": {
          "base_uri": "https://localhost:8080/",
          "height": 0
        },
        "id": "6HOxs5zdp-O-",
        "outputId": "557f9b2c-1e90-43c0-c450-6b7ed3fd59de"
      },
      "execution_count": 46,
      "outputs": [
        {
          "output_type": "execute_result",
          "data": {
            "text/plain": [
              "array([5.00000000e+09, 3.78231664e+09, 2.86118383e+09, 2.16438064e+09,\n",
              "       1.63727458e+09, 1.23853818e+09, 9.36908711e+08, 7.08737081e+08,\n",
              "       5.36133611e+08, 4.05565415e+08, 3.06795364e+08, 2.32079442e+08,\n",
              "       1.75559587e+08, 1.32804389e+08, 1.00461650e+08, 7.59955541e+07,\n",
              "       5.74878498e+07, 4.34874501e+07, 3.28966612e+07, 2.48851178e+07,\n",
              "       1.88246790e+07, 1.42401793e+07, 1.07721735e+07, 8.14875417e+06,\n",
              "       6.16423370e+06, 4.66301673e+06, 3.52740116e+06, 2.66834962e+06,\n",
              "       2.01850863e+06, 1.52692775e+06, 1.15506485e+06, 8.73764200e+05,\n",
              "       6.60970574e+05, 5.00000000e+05, 3.78231664e+05, 2.86118383e+05,\n",
              "       2.16438064e+05, 1.63727458e+05, 1.23853818e+05, 9.36908711e+04,\n",
              "       7.08737081e+04, 5.36133611e+04, 4.05565415e+04, 3.06795364e+04,\n",
              "       2.32079442e+04, 1.75559587e+04, 1.32804389e+04, 1.00461650e+04,\n",
              "       7.59955541e+03, 5.74878498e+03, 4.34874501e+03, 3.28966612e+03,\n",
              "       2.48851178e+03, 1.88246790e+03, 1.42401793e+03, 1.07721735e+03,\n",
              "       8.14875417e+02, 6.16423370e+02, 4.66301673e+02, 3.52740116e+02,\n",
              "       2.66834962e+02, 2.01850863e+02, 1.52692775e+02, 1.15506485e+02,\n",
              "       8.73764200e+01, 6.60970574e+01, 5.00000000e+01, 3.78231664e+01,\n",
              "       2.86118383e+01, 2.16438064e+01, 1.63727458e+01, 1.23853818e+01,\n",
              "       9.36908711e+00, 7.08737081e+00, 5.36133611e+00, 4.05565415e+00,\n",
              "       3.06795364e+00, 2.32079442e+00, 1.75559587e+00, 1.32804389e+00,\n",
              "       1.00461650e+00, 7.59955541e-01, 5.74878498e-01, 4.34874501e-01,\n",
              "       3.28966612e-01, 2.48851178e-01, 1.88246790e-01, 1.42401793e-01,\n",
              "       1.07721735e-01, 8.14875417e-02, 6.16423370e-02, 4.66301673e-02,\n",
              "       3.52740116e-02, 2.66834962e-02, 2.01850863e-02, 1.52692775e-02,\n",
              "       1.15506485e-02, 8.73764200e-03, 6.60970574e-03, 5.00000000e-03])"
            ]
          },
          "metadata": {},
          "execution_count": 46
        }
      ]
    },
    {
      "cell_type": "code",
      "source": [
        "from sklearn.linear_model import RidgeCV, Ridge\n",
        "ridgecv = RidgeCV(alphas=alphas).fit(X_rem, y_rem)\n",
        "ridgecv.alpha_"
      ],
      "metadata": {
        "colab": {
          "base_uri": "https://localhost:8080/",
          "height": 0
        },
        "id": "dhhPAnrBo6pM",
        "outputId": "b5d5bad4-e929-47e4-c5d3-02b7fc1e6b25"
      },
      "execution_count": 50,
      "outputs": [
        {
          "output_type": "execute_result",
          "data": {
            "text/plain": [
              "0.06164233697210317"
            ]
          },
          "metadata": {},
          "execution_count": 50
        }
      ]
    },
    {
      "cell_type": "code",
      "source": [
        "## define a list of values for the maximum polynomial degree \n",
        "degrees = [1, 2, 3, 4, 5 , 6]    \n",
        "\n",
        "tr_errors = {}          \n",
        "val_errors = {}\n",
        "\n",
        "\n",
        "for i, degree in enumerate(degrees):    # use for-loop to fit polynomial regression models with different degrees\n",
        "    tr_errors[degree] = [] \n",
        "    val_errors[degree] = []\n",
        "    \n",
        "    \n",
        "    # for k iterations of training and evaluation\n",
        "    for j, (train_indices, val_indices) in enumerate(kfold.split(X_rem)): \n",
        "\n",
        "        # Define the training and validation data using the indices returned by kfold and numpy indexing \n",
        "        \n",
        "        X_train, y_train, X_val, y_val = X_rem.iloc[train_indices], y_rem.iloc[train_indices], X_rem.iloc[val_indices], y_rem.iloc[val_indices]\n",
        "        \n",
        "        ridge = Ridge(alpha = ridgecv.alpha_, normalize = True)\n",
        "        \n",
        "         \n",
        "        poly = PolynomialFeatures(degree=degree)    # generate polynomial features\n",
        "        X_train_poly = poly.fit_transform(X_train)    # fit the raw features\n",
        "        ridge.fit(X_train_poly, y_train)    # apply linear regression to these new features and labels\n",
        "\n",
        "        y_pred_train = ridge.predict(X_train_poly)    # predict using the linear model\n",
        "        tr_error = mean_absolute_error(y_train, y_pred_train)    # calculate the training error\n",
        "        X_val_poly = poly.transform(X_val) # fit the raw features for the validation data \n",
        "        y_pred_val = ridge.predict(X_val_poly) # predict labels for the validation data using the linear model \n",
        "        val_error = mean_absolute_error(y_val, y_pred_val) # calculate the validation error\n",
        "        \n",
        "        tr_errors[degree].append(tr_error)\n",
        "        val_errors[degree].append(val_error)\n",
        "        "
      ],
      "metadata": {
        "colab": {
          "base_uri": "https://localhost:8080/",
          "height": 0
        },
        "id": "YIxrPqEiJDld",
        "outputId": "397908d0-87ee-41aa-940a-82891293d57f"
      },
      "execution_count": 51,
      "outputs": [
        {
          "output_type": "stream",
          "name": "stderr",
          "text": [
            "/usr/local/lib/python3.7/dist-packages/sklearn/linear_model/_base.py:145: FutureWarning: 'normalize' was deprecated in version 1.0 and will be removed in 1.2.\n",
            "If you wish to scale the data, use Pipeline with a StandardScaler in a preprocessing stage. To reproduce the previous behavior:\n",
            "\n",
            "from sklearn.pipeline import make_pipeline\n",
            "\n",
            "model = make_pipeline(StandardScaler(with_mean=False), Ridge())\n",
            "\n",
            "If you wish to pass a sample_weight parameter, you need to pass it as a fit parameter to each step of the pipeline as follows:\n",
            "\n",
            "kwargs = {s[0] + '__sample_weight': sample_weight for s in model.steps}\n",
            "model.fit(X, y, **kwargs)\n",
            "\n",
            "Set parameter alpha to: original_alpha * n_samples. \n",
            "  FutureWarning,\n",
            "/usr/local/lib/python3.7/dist-packages/sklearn/linear_model/_base.py:145: FutureWarning: 'normalize' was deprecated in version 1.0 and will be removed in 1.2.\n",
            "If you wish to scale the data, use Pipeline with a StandardScaler in a preprocessing stage. To reproduce the previous behavior:\n",
            "\n",
            "from sklearn.pipeline import make_pipeline\n",
            "\n",
            "model = make_pipeline(StandardScaler(with_mean=False), Ridge())\n",
            "\n",
            "If you wish to pass a sample_weight parameter, you need to pass it as a fit parameter to each step of the pipeline as follows:\n",
            "\n",
            "kwargs = {s[0] + '__sample_weight': sample_weight for s in model.steps}\n",
            "model.fit(X, y, **kwargs)\n",
            "\n",
            "Set parameter alpha to: original_alpha * n_samples. \n",
            "  FutureWarning,\n",
            "/usr/local/lib/python3.7/dist-packages/sklearn/linear_model/_base.py:145: FutureWarning: 'normalize' was deprecated in version 1.0 and will be removed in 1.2.\n",
            "If you wish to scale the data, use Pipeline with a StandardScaler in a preprocessing stage. To reproduce the previous behavior:\n",
            "\n",
            "from sklearn.pipeline import make_pipeline\n",
            "\n",
            "model = make_pipeline(StandardScaler(with_mean=False), Ridge())\n",
            "\n",
            "If you wish to pass a sample_weight parameter, you need to pass it as a fit parameter to each step of the pipeline as follows:\n",
            "\n",
            "kwargs = {s[0] + '__sample_weight': sample_weight for s in model.steps}\n",
            "model.fit(X, y, **kwargs)\n",
            "\n",
            "Set parameter alpha to: original_alpha * n_samples. \n",
            "  FutureWarning,\n",
            "/usr/local/lib/python3.7/dist-packages/sklearn/linear_model/_base.py:145: FutureWarning: 'normalize' was deprecated in version 1.0 and will be removed in 1.2.\n",
            "If you wish to scale the data, use Pipeline with a StandardScaler in a preprocessing stage. To reproduce the previous behavior:\n",
            "\n",
            "from sklearn.pipeline import make_pipeline\n",
            "\n",
            "model = make_pipeline(StandardScaler(with_mean=False), Ridge())\n",
            "\n",
            "If you wish to pass a sample_weight parameter, you need to pass it as a fit parameter to each step of the pipeline as follows:\n",
            "\n",
            "kwargs = {s[0] + '__sample_weight': sample_weight for s in model.steps}\n",
            "model.fit(X, y, **kwargs)\n",
            "\n",
            "Set parameter alpha to: original_alpha * n_samples. \n",
            "  FutureWarning,\n",
            "/usr/local/lib/python3.7/dist-packages/sklearn/linear_model/_base.py:145: FutureWarning: 'normalize' was deprecated in version 1.0 and will be removed in 1.2.\n",
            "If you wish to scale the data, use Pipeline with a StandardScaler in a preprocessing stage. To reproduce the previous behavior:\n",
            "\n",
            "from sklearn.pipeline import make_pipeline\n",
            "\n",
            "model = make_pipeline(StandardScaler(with_mean=False), Ridge())\n",
            "\n",
            "If you wish to pass a sample_weight parameter, you need to pass it as a fit parameter to each step of the pipeline as follows:\n",
            "\n",
            "kwargs = {s[0] + '__sample_weight': sample_weight for s in model.steps}\n",
            "model.fit(X, y, **kwargs)\n",
            "\n",
            "Set parameter alpha to: original_alpha * n_samples. \n",
            "  FutureWarning,\n",
            "/usr/local/lib/python3.7/dist-packages/sklearn/linear_model/_base.py:145: FutureWarning: 'normalize' was deprecated in version 1.0 and will be removed in 1.2.\n",
            "If you wish to scale the data, use Pipeline with a StandardScaler in a preprocessing stage. To reproduce the previous behavior:\n",
            "\n",
            "from sklearn.pipeline import make_pipeline\n",
            "\n",
            "model = make_pipeline(StandardScaler(with_mean=False), Ridge())\n",
            "\n",
            "If you wish to pass a sample_weight parameter, you need to pass it as a fit parameter to each step of the pipeline as follows:\n",
            "\n",
            "kwargs = {s[0] + '__sample_weight': sample_weight for s in model.steps}\n",
            "model.fit(X, y, **kwargs)\n",
            "\n",
            "Set parameter alpha to: original_alpha * n_samples. \n",
            "  FutureWarning,\n",
            "/usr/local/lib/python3.7/dist-packages/sklearn/linear_model/_base.py:145: FutureWarning: 'normalize' was deprecated in version 1.0 and will be removed in 1.2.\n",
            "If you wish to scale the data, use Pipeline with a StandardScaler in a preprocessing stage. To reproduce the previous behavior:\n",
            "\n",
            "from sklearn.pipeline import make_pipeline\n",
            "\n",
            "model = make_pipeline(StandardScaler(with_mean=False), Ridge())\n",
            "\n",
            "If you wish to pass a sample_weight parameter, you need to pass it as a fit parameter to each step of the pipeline as follows:\n",
            "\n",
            "kwargs = {s[0] + '__sample_weight': sample_weight for s in model.steps}\n",
            "model.fit(X, y, **kwargs)\n",
            "\n",
            "Set parameter alpha to: original_alpha * n_samples. \n",
            "  FutureWarning,\n",
            "/usr/local/lib/python3.7/dist-packages/sklearn/linear_model/_base.py:145: FutureWarning: 'normalize' was deprecated in version 1.0 and will be removed in 1.2.\n",
            "If you wish to scale the data, use Pipeline with a StandardScaler in a preprocessing stage. To reproduce the previous behavior:\n",
            "\n",
            "from sklearn.pipeline import make_pipeline\n",
            "\n",
            "model = make_pipeline(StandardScaler(with_mean=False), Ridge())\n",
            "\n",
            "If you wish to pass a sample_weight parameter, you need to pass it as a fit parameter to each step of the pipeline as follows:\n",
            "\n",
            "kwargs = {s[0] + '__sample_weight': sample_weight for s in model.steps}\n",
            "model.fit(X, y, **kwargs)\n",
            "\n",
            "Set parameter alpha to: original_alpha * n_samples. \n",
            "  FutureWarning,\n",
            "/usr/local/lib/python3.7/dist-packages/sklearn/linear_model/_base.py:145: FutureWarning: 'normalize' was deprecated in version 1.0 and will be removed in 1.2.\n",
            "If you wish to scale the data, use Pipeline with a StandardScaler in a preprocessing stage. To reproduce the previous behavior:\n",
            "\n",
            "from sklearn.pipeline import make_pipeline\n",
            "\n",
            "model = make_pipeline(StandardScaler(with_mean=False), Ridge())\n",
            "\n",
            "If you wish to pass a sample_weight parameter, you need to pass it as a fit parameter to each step of the pipeline as follows:\n",
            "\n",
            "kwargs = {s[0] + '__sample_weight': sample_weight for s in model.steps}\n",
            "model.fit(X, y, **kwargs)\n",
            "\n",
            "Set parameter alpha to: original_alpha * n_samples. \n",
            "  FutureWarning,\n",
            "/usr/local/lib/python3.7/dist-packages/sklearn/linear_model/_base.py:145: FutureWarning: 'normalize' was deprecated in version 1.0 and will be removed in 1.2.\n",
            "If you wish to scale the data, use Pipeline with a StandardScaler in a preprocessing stage. To reproduce the previous behavior:\n",
            "\n",
            "from sklearn.pipeline import make_pipeline\n",
            "\n",
            "model = make_pipeline(StandardScaler(with_mean=False), Ridge())\n",
            "\n",
            "If you wish to pass a sample_weight parameter, you need to pass it as a fit parameter to each step of the pipeline as follows:\n",
            "\n",
            "kwargs = {s[0] + '__sample_weight': sample_weight for s in model.steps}\n",
            "model.fit(X, y, **kwargs)\n",
            "\n",
            "Set parameter alpha to: original_alpha * n_samples. \n",
            "  FutureWarning,\n",
            "/usr/local/lib/python3.7/dist-packages/sklearn/linear_model/_base.py:145: FutureWarning: 'normalize' was deprecated in version 1.0 and will be removed in 1.2.\n",
            "If you wish to scale the data, use Pipeline with a StandardScaler in a preprocessing stage. To reproduce the previous behavior:\n",
            "\n",
            "from sklearn.pipeline import make_pipeline\n",
            "\n",
            "model = make_pipeline(StandardScaler(with_mean=False), Ridge())\n",
            "\n",
            "If you wish to pass a sample_weight parameter, you need to pass it as a fit parameter to each step of the pipeline as follows:\n",
            "\n",
            "kwargs = {s[0] + '__sample_weight': sample_weight for s in model.steps}\n",
            "model.fit(X, y, **kwargs)\n",
            "\n",
            "Set parameter alpha to: original_alpha * n_samples. \n",
            "  FutureWarning,\n",
            "/usr/local/lib/python3.7/dist-packages/sklearn/linear_model/_base.py:145: FutureWarning: 'normalize' was deprecated in version 1.0 and will be removed in 1.2.\n",
            "If you wish to scale the data, use Pipeline with a StandardScaler in a preprocessing stage. To reproduce the previous behavior:\n",
            "\n",
            "from sklearn.pipeline import make_pipeline\n",
            "\n",
            "model = make_pipeline(StandardScaler(with_mean=False), Ridge())\n",
            "\n",
            "If you wish to pass a sample_weight parameter, you need to pass it as a fit parameter to each step of the pipeline as follows:\n",
            "\n",
            "kwargs = {s[0] + '__sample_weight': sample_weight for s in model.steps}\n",
            "model.fit(X, y, **kwargs)\n",
            "\n",
            "Set parameter alpha to: original_alpha * n_samples. \n",
            "  FutureWarning,\n",
            "/usr/local/lib/python3.7/dist-packages/sklearn/linear_model/_base.py:145: FutureWarning: 'normalize' was deprecated in version 1.0 and will be removed in 1.2.\n",
            "If you wish to scale the data, use Pipeline with a StandardScaler in a preprocessing stage. To reproduce the previous behavior:\n",
            "\n",
            "from sklearn.pipeline import make_pipeline\n",
            "\n",
            "model = make_pipeline(StandardScaler(with_mean=False), Ridge())\n",
            "\n",
            "If you wish to pass a sample_weight parameter, you need to pass it as a fit parameter to each step of the pipeline as follows:\n",
            "\n",
            "kwargs = {s[0] + '__sample_weight': sample_weight for s in model.steps}\n",
            "model.fit(X, y, **kwargs)\n",
            "\n",
            "Set parameter alpha to: original_alpha * n_samples. \n",
            "  FutureWarning,\n",
            "/usr/local/lib/python3.7/dist-packages/sklearn/linear_model/_base.py:145: FutureWarning: 'normalize' was deprecated in version 1.0 and will be removed in 1.2.\n",
            "If you wish to scale the data, use Pipeline with a StandardScaler in a preprocessing stage. To reproduce the previous behavior:\n",
            "\n",
            "from sklearn.pipeline import make_pipeline\n",
            "\n",
            "model = make_pipeline(StandardScaler(with_mean=False), Ridge())\n",
            "\n",
            "If you wish to pass a sample_weight parameter, you need to pass it as a fit parameter to each step of the pipeline as follows:\n",
            "\n",
            "kwargs = {s[0] + '__sample_weight': sample_weight for s in model.steps}\n",
            "model.fit(X, y, **kwargs)\n",
            "\n",
            "Set parameter alpha to: original_alpha * n_samples. \n",
            "  FutureWarning,\n",
            "/usr/local/lib/python3.7/dist-packages/sklearn/linear_model/_base.py:145: FutureWarning: 'normalize' was deprecated in version 1.0 and will be removed in 1.2.\n",
            "If you wish to scale the data, use Pipeline with a StandardScaler in a preprocessing stage. To reproduce the previous behavior:\n",
            "\n",
            "from sklearn.pipeline import make_pipeline\n",
            "\n",
            "model = make_pipeline(StandardScaler(with_mean=False), Ridge())\n",
            "\n",
            "If you wish to pass a sample_weight parameter, you need to pass it as a fit parameter to each step of the pipeline as follows:\n",
            "\n",
            "kwargs = {s[0] + '__sample_weight': sample_weight for s in model.steps}\n",
            "model.fit(X, y, **kwargs)\n",
            "\n",
            "Set parameter alpha to: original_alpha * n_samples. \n",
            "  FutureWarning,\n",
            "/usr/local/lib/python3.7/dist-packages/sklearn/linear_model/_base.py:145: FutureWarning: 'normalize' was deprecated in version 1.0 and will be removed in 1.2.\n",
            "If you wish to scale the data, use Pipeline with a StandardScaler in a preprocessing stage. To reproduce the previous behavior:\n",
            "\n",
            "from sklearn.pipeline import make_pipeline\n",
            "\n",
            "model = make_pipeline(StandardScaler(with_mean=False), Ridge())\n",
            "\n",
            "If you wish to pass a sample_weight parameter, you need to pass it as a fit parameter to each step of the pipeline as follows:\n",
            "\n",
            "kwargs = {s[0] + '__sample_weight': sample_weight for s in model.steps}\n",
            "model.fit(X, y, **kwargs)\n",
            "\n",
            "Set parameter alpha to: original_alpha * n_samples. \n",
            "  FutureWarning,\n",
            "/usr/local/lib/python3.7/dist-packages/sklearn/linear_model/_base.py:145: FutureWarning: 'normalize' was deprecated in version 1.0 and will be removed in 1.2.\n",
            "If you wish to scale the data, use Pipeline with a StandardScaler in a preprocessing stage. To reproduce the previous behavior:\n",
            "\n",
            "from sklearn.pipeline import make_pipeline\n",
            "\n",
            "model = make_pipeline(StandardScaler(with_mean=False), Ridge())\n",
            "\n",
            "If you wish to pass a sample_weight parameter, you need to pass it as a fit parameter to each step of the pipeline as follows:\n",
            "\n",
            "kwargs = {s[0] + '__sample_weight': sample_weight for s in model.steps}\n",
            "model.fit(X, y, **kwargs)\n",
            "\n",
            "Set parameter alpha to: original_alpha * n_samples. \n",
            "  FutureWarning,\n",
            "/usr/local/lib/python3.7/dist-packages/sklearn/linear_model/_base.py:145: FutureWarning: 'normalize' was deprecated in version 1.0 and will be removed in 1.2.\n",
            "If you wish to scale the data, use Pipeline with a StandardScaler in a preprocessing stage. To reproduce the previous behavior:\n",
            "\n",
            "from sklearn.pipeline import make_pipeline\n",
            "\n",
            "model = make_pipeline(StandardScaler(with_mean=False), Ridge())\n",
            "\n",
            "If you wish to pass a sample_weight parameter, you need to pass it as a fit parameter to each step of the pipeline as follows:\n",
            "\n",
            "kwargs = {s[0] + '__sample_weight': sample_weight for s in model.steps}\n",
            "model.fit(X, y, **kwargs)\n",
            "\n",
            "Set parameter alpha to: original_alpha * n_samples. \n",
            "  FutureWarning,\n"
          ]
        }
      ]
    },
    {
      "cell_type": "code",
      "source": [
        "tr_errors"
      ],
      "metadata": {
        "colab": {
          "base_uri": "https://localhost:8080/",
          "height": 0
        },
        "id": "M5fgWVG6kMAT",
        "outputId": "f8137356-a155-438a-86a6-b4370caf1630"
      },
      "execution_count": 52,
      "outputs": [
        {
          "output_type": "execute_result",
          "data": {
            "text/plain": [
              "{1: [95.35789745968763, 103.52076711050353, 89.8080775993549],\n",
              " 2: [79.45277695683049, 88.00996175047894, 70.39215031851725],\n",
              " 3: [66.5769279484823, 74.93965576388842, 58.34112307777836],\n",
              " 4: [57.13466833311148, 62.84481181957818, 46.54003365319986],\n",
              " 5: [49.927563791937, 52.39344905040001, 37.79614350357721],\n",
              " 6: [43.931172016700984, 44.41782666246154, 31.916178922994888]}"
            ]
          },
          "metadata": {},
          "execution_count": 52
        }
      ]
    },
    {
      "cell_type": "code",
      "source": [
        "val_errors"
      ],
      "metadata": {
        "colab": {
          "base_uri": "https://localhost:8080/",
          "height": 0
        },
        "id": "YrHs0uEekYqA",
        "outputId": "4b2995c7-ce94-4c86-ed3b-bb00bf2b4961"
      },
      "execution_count": 53,
      "outputs": [
        {
          "output_type": "execute_result",
          "data": {
            "text/plain": [
              "{1: [101.15530451241735, 90.94047143547591, 100.68335040632812],\n",
              " 2: [125.29643718038275, 75.03519103788187, 92.27844349312177],\n",
              " 3: [115.40863206443066, 75.12907101022921, 93.53375288281245],\n",
              " 4: [123.65268080928452, 95.68885412808474, 103.11020979014823],\n",
              " 5: [175.98858567978186, 180.66443978165333, 162.2214353320206],\n",
              " 6: [278.60768371898234, 467.9239673611984, 807.3226426379063]}"
            ]
          },
          "metadata": {},
          "execution_count": 53
        }
      ]
    },
    {
      "cell_type": "code",
      "source": [
        "average_train_error, average_val_error = {}, {}\n",
        "result = np.zeros((6,2))\n",
        "for i in range(len(degrees)):\n",
        "    \n",
        "    average_train_error[degrees[i]] = np.mean(tr_errors[degrees[i]])\n",
        "    average_val_error[degrees[i]] = np.mean(val_errors[degrees[i]])\n",
        "    result[i,0] = average_train_error[degrees[i]]\n",
        "    result[i,1] = average_val_error[degrees[i]]\n",
        "    print(f\"Degree {degrees[i]}, avg train error = {average_train_error[degrees[i]]}, \"\n",
        "          f\"avg val error = {average_val_error[degrees[i]]}\")"
      ],
      "metadata": {
        "colab": {
          "base_uri": "https://localhost:8080/",
          "height": 0
        },
        "id": "FqikFBlHJRsM",
        "outputId": "8109ffd2-d1af-4ff8-bfa2-6dd6e22f1708"
      },
      "execution_count": 54,
      "outputs": [
        {
          "output_type": "stream",
          "name": "stdout",
          "text": [
            "Degree 1, avg train error = 96.22891405651535, avg val error = 97.5930421180738\n",
            "Degree 2, avg train error = 79.2849630086089, avg val error = 97.53669057046214\n",
            "Degree 3, avg train error = 66.61923559671636, avg val error = 94.69048531915745\n",
            "Degree 4, avg train error = 55.50650460196317, avg val error = 107.4839149091725\n",
            "Degree 5, avg train error = 46.705718781971406, avg val error = 172.9581535978186\n",
            "Degree 6, avg train error = 40.08839253405247, avg val error = 517.9514312393623\n"
          ]
        }
      ]
    },
    {
      "cell_type": "code",
      "source": [
        "results = pd.DataFrame(result)\n",
        "results['degree'] = degrees\n",
        "results = results.rename(columns={0: \"average_train_error\", 1: \"average_val_error\"})\n",
        "results"
      ],
      "metadata": {
        "colab": {
          "base_uri": "https://localhost:8080/",
          "height": 238
        },
        "id": "o-jedcQtcCcA",
        "outputId": "a61a56e6-a3a2-40fb-b67a-48ed166d7f8a"
      },
      "execution_count": 55,
      "outputs": [
        {
          "output_type": "execute_result",
          "data": {
            "text/plain": [
              "   average_train_error  average_val_error  degree\n",
              "0            96.228914          97.593042       1\n",
              "1            79.284963          97.536691       2\n",
              "2            66.619236          94.690485       3\n",
              "3            55.506505         107.483915       4\n",
              "4            46.705719         172.958154       5\n",
              "5            40.088393         517.951431       6"
            ],
            "text/html": [
              "\n",
              "  <div id=\"df-e4aa8aa8-2517-4775-974c-bab905991ad5\">\n",
              "    <div class=\"colab-df-container\">\n",
              "      <div>\n",
              "<style scoped>\n",
              "    .dataframe tbody tr th:only-of-type {\n",
              "        vertical-align: middle;\n",
              "    }\n",
              "\n",
              "    .dataframe tbody tr th {\n",
              "        vertical-align: top;\n",
              "    }\n",
              "\n",
              "    .dataframe thead th {\n",
              "        text-align: right;\n",
              "    }\n",
              "</style>\n",
              "<table border=\"1\" class=\"dataframe\">\n",
              "  <thead>\n",
              "    <tr style=\"text-align: right;\">\n",
              "      <th></th>\n",
              "      <th>average_train_error</th>\n",
              "      <th>average_val_error</th>\n",
              "      <th>degree</th>\n",
              "    </tr>\n",
              "  </thead>\n",
              "  <tbody>\n",
              "    <tr>\n",
              "      <th>0</th>\n",
              "      <td>96.228914</td>\n",
              "      <td>97.593042</td>\n",
              "      <td>1</td>\n",
              "    </tr>\n",
              "    <tr>\n",
              "      <th>1</th>\n",
              "      <td>79.284963</td>\n",
              "      <td>97.536691</td>\n",
              "      <td>2</td>\n",
              "    </tr>\n",
              "    <tr>\n",
              "      <th>2</th>\n",
              "      <td>66.619236</td>\n",
              "      <td>94.690485</td>\n",
              "      <td>3</td>\n",
              "    </tr>\n",
              "    <tr>\n",
              "      <th>3</th>\n",
              "      <td>55.506505</td>\n",
              "      <td>107.483915</td>\n",
              "      <td>4</td>\n",
              "    </tr>\n",
              "    <tr>\n",
              "      <th>4</th>\n",
              "      <td>46.705719</td>\n",
              "      <td>172.958154</td>\n",
              "      <td>5</td>\n",
              "    </tr>\n",
              "    <tr>\n",
              "      <th>5</th>\n",
              "      <td>40.088393</td>\n",
              "      <td>517.951431</td>\n",
              "      <td>6</td>\n",
              "    </tr>\n",
              "  </tbody>\n",
              "</table>\n",
              "</div>\n",
              "      <button class=\"colab-df-convert\" onclick=\"convertToInteractive('df-e4aa8aa8-2517-4775-974c-bab905991ad5')\"\n",
              "              title=\"Convert this dataframe to an interactive table.\"\n",
              "              style=\"display:none;\">\n",
              "        \n",
              "  <svg xmlns=\"http://www.w3.org/2000/svg\" height=\"24px\"viewBox=\"0 0 24 24\"\n",
              "       width=\"24px\">\n",
              "    <path d=\"M0 0h24v24H0V0z\" fill=\"none\"/>\n",
              "    <path d=\"M18.56 5.44l.94 2.06.94-2.06 2.06-.94-2.06-.94-.94-2.06-.94 2.06-2.06.94zm-11 1L8.5 8.5l.94-2.06 2.06-.94-2.06-.94L8.5 2.5l-.94 2.06-2.06.94zm10 10l.94 2.06.94-2.06 2.06-.94-2.06-.94-.94-2.06-.94 2.06-2.06.94z\"/><path d=\"M17.41 7.96l-1.37-1.37c-.4-.4-.92-.59-1.43-.59-.52 0-1.04.2-1.43.59L10.3 9.45l-7.72 7.72c-.78.78-.78 2.05 0 2.83L4 21.41c.39.39.9.59 1.41.59.51 0 1.02-.2 1.41-.59l7.78-7.78 2.81-2.81c.8-.78.8-2.07 0-2.86zM5.41 20L4 18.59l7.72-7.72 1.47 1.35L5.41 20z\"/>\n",
              "  </svg>\n",
              "      </button>\n",
              "      \n",
              "  <style>\n",
              "    .colab-df-container {\n",
              "      display:flex;\n",
              "      flex-wrap:wrap;\n",
              "      gap: 12px;\n",
              "    }\n",
              "\n",
              "    .colab-df-convert {\n",
              "      background-color: #E8F0FE;\n",
              "      border: none;\n",
              "      border-radius: 50%;\n",
              "      cursor: pointer;\n",
              "      display: none;\n",
              "      fill: #1967D2;\n",
              "      height: 32px;\n",
              "      padding: 0 0 0 0;\n",
              "      width: 32px;\n",
              "    }\n",
              "\n",
              "    .colab-df-convert:hover {\n",
              "      background-color: #E2EBFA;\n",
              "      box-shadow: 0px 1px 2px rgba(60, 64, 67, 0.3), 0px 1px 3px 1px rgba(60, 64, 67, 0.15);\n",
              "      fill: #174EA6;\n",
              "    }\n",
              "\n",
              "    [theme=dark] .colab-df-convert {\n",
              "      background-color: #3B4455;\n",
              "      fill: #D2E3FC;\n",
              "    }\n",
              "\n",
              "    [theme=dark] .colab-df-convert:hover {\n",
              "      background-color: #434B5C;\n",
              "      box-shadow: 0px 1px 3px 1px rgba(0, 0, 0, 0.15);\n",
              "      filter: drop-shadow(0px 1px 2px rgba(0, 0, 0, 0.3));\n",
              "      fill: #FFFFFF;\n",
              "    }\n",
              "  </style>\n",
              "\n",
              "      <script>\n",
              "        const buttonEl =\n",
              "          document.querySelector('#df-e4aa8aa8-2517-4775-974c-bab905991ad5 button.colab-df-convert');\n",
              "        buttonEl.style.display =\n",
              "          google.colab.kernel.accessAllowed ? 'block' : 'none';\n",
              "\n",
              "        async function convertToInteractive(key) {\n",
              "          const element = document.querySelector('#df-e4aa8aa8-2517-4775-974c-bab905991ad5');\n",
              "          const dataTable =\n",
              "            await google.colab.kernel.invokeFunction('convertToInteractive',\n",
              "                                                     [key], {});\n",
              "          if (!dataTable) return;\n",
              "\n",
              "          const docLinkHtml = 'Like what you see? Visit the ' +\n",
              "            '<a target=\"_blank\" href=https://colab.research.google.com/notebooks/data_table.ipynb>data table notebook</a>'\n",
              "            + ' to learn more about interactive tables.';\n",
              "          element.innerHTML = '';\n",
              "          dataTable['output_type'] = 'display_data';\n",
              "          await google.colab.output.renderOutput(dataTable, element);\n",
              "          const docLink = document.createElement('div');\n",
              "          docLink.innerHTML = docLinkHtml;\n",
              "          element.appendChild(docLink);\n",
              "        }\n",
              "      </script>\n",
              "    </div>\n",
              "  </div>\n",
              "  "
            ]
          },
          "metadata": {},
          "execution_count": 55
        }
      ]
    },
    {
      "cell_type": "code",
      "source": [
        "# plotting cv results\n",
        "plt.figure(figsize=(16,6))\n",
        "\n",
        "plt.plot(results[\"degree\"], results[\"average_train_error\"])\n",
        "plt.plot(results[\"degree\"], results[\"average_val_error\"])\n",
        "plt.xlabel('degree')\n",
        "plt.ylabel('mean_absolute_value')\n",
        "plt.title(\"Optimal degree\")\n",
        "plt.legend(['train score', 'val score'], loc='upper left')"
      ],
      "metadata": {
        "colab": {
          "base_uri": "https://localhost:8080/",
          "height": 420
        },
        "id": "MO-PIdmZJ9QU",
        "outputId": "0551f106-f576-490e-a2bb-53d683099b1e"
      },
      "execution_count": 56,
      "outputs": [
        {
          "output_type": "execute_result",
          "data": {
            "text/plain": [
              "<matplotlib.legend.Legend at 0x7f275db318d0>"
            ]
          },
          "metadata": {},
          "execution_count": 56
        },
        {
          "output_type": "display_data",
          "data": {
            "text/plain": [
              "<Figure size 1152x432 with 1 Axes>"
            ],
            "image/png": "[encoded data removed]"
          },
          "metadata": {}
        }
      ]
    },
    {
      "cell_type": "markdown",
      "source": [
        "## Apply best model on test set"
      ],
      "metadata": {
        "id": "VFFATsyGd8vq"
      }
    },
    {
      "cell_type": "code",
      "source": [
        "ridge = Ridge(alpha = ridgecv.alpha_, normalize = True)\n",
        "        \n",
        "poly = PolynomialFeatures(degree=3)    # generate polynomial features\n",
        "X_test_poly = poly.fit_transform(X_test)    # fit the raw features\n",
        "ridge.fit(X_test_poly, y_test)\n",
        "y_pred_test = ridge.predict(X_test_poly) # predict values for the test data using the linear model \n",
        "test_error = mean_absolute_error(y_test, y_pred_test) # calculate the test error\n",
        "\n",
        "\n",
        "\n",
        "print(\"The test error is: \",test_error)"
      ],
      "metadata": {
        "colab": {
          "base_uri": "https://localhost:8080/",
          "height": 0
        },
        "id": "9kYBE3U7Q3m7",
        "outputId": "1df97ba9-5a17-4218-e1e0-30597692b08a"
      },
      "execution_count": 60,
      "outputs": [
        {
          "output_type": "stream",
          "name": "stdout",
          "text": [
            "The test error is:  92.13861513537105\n"
          ]
        },
        {
          "output_type": "stream",
          "name": "stderr",
          "text": [
            "/usr/local/lib/python3.7/dist-packages/sklearn/linear_model/_base.py:145: FutureWarning: 'normalize' was deprecated in version 1.0 and will be removed in 1.2.\n",
            "If you wish to scale the data, use Pipeline with a StandardScaler in a preprocessing stage. To reproduce the previous behavior:\n",
            "\n",
            "from sklearn.pipeline import make_pipeline\n",
            "\n",
            "model = make_pipeline(StandardScaler(with_mean=False), Ridge())\n",
            "\n",
            "If you wish to pass a sample_weight parameter, you need to pass it as a fit parameter to each step of the pipeline as follows:\n",
            "\n",
            "kwargs = {s[0] + '__sample_weight': sample_weight for s in model.steps}\n",
            "model.fit(X, y, **kwargs)\n",
            "\n",
            "Set parameter alpha to: original_alpha * n_samples. \n",
            "  FutureWarning,\n"
          ]
        }
      ]
    }
  ]
}